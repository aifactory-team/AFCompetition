{
  "nbformat": 4,
  "nbformat_minor": 0,
  "metadata": {
    "colab": {
      "provenance": [],
      "include_colab_link": true
    },
    "kernelspec": {
      "name": "python3",
      "display_name": "Python 3"
    },
    "language_info": {
      "name": "python"
    }
  },
  "cells": [
    {
      "cell_type": "markdown",
      "metadata": {
        "id": "view-in-github",
        "colab_type": "text"
      },
      "source": [
        "<a href=\"https://colab.research.google.com/github/jhlee93/AFCompetition/blob/main/2368/task.ipynb\" target=\"_parent\"><img src=\"https://colab.research.google.com/assets/colab-badge.svg\" alt=\"Open In Colab\"/></a>"
      ]
    },
    {
      "cell_type": "markdown",
      "source": [
        "# 안녕하세요. AIFactory입니다 ☺️\n",
        "이 노트북은 제출을 위한 가이드라인 노트북입니다.  \n",
        "\n",
        "Colab에서 작업 하실 경우, 반드시 구글 드라이브에 사본을 저장을(파일 -> Drive에 사본 저장) 하신 후에 사용해주세요.\n",
        "  \n",
        "이번 태스크는 스코어 경쟁을 통해 입상자를 선별하는 대회가 아닌,  \n",
        "AIF의 **추론 자동화**를 경험해보고 이 과정에서 불편한 점, 개선 되었으면 하는 점 등 여러분들의 다양한 의견을 듣기 위해서이니 다양한 의견을 공유해 주시면 감사드리겠습니다.\n",
        "\n"
      ],
      "metadata": {
        "id": "nSjrc8ZOMV_2"
      }
    },
    {
      "cell_type": "markdown",
      "source": [
        "# 주의 사항\n",
        "\n",
        "### Colab 환경에서 작업 하시는 경우\n",
        "- Colab 노트북 공유 권한을 ***공유 -> 링크가 있는 모든 사용자*** 로 설정해주세요.\n",
        "- 구글 드라이브 마운트는 하지 말아주세요.\n",
        "    - AIF 추론 환경에서는 Colab 전용 라이브러리를 사용 할 수 없으며,\n",
        "    - 참가자분의 개인 구글 드라이브에 접근 할 수 없습니다.\n",
        "</br></br>\n",
        "\n",
        "### 개인 로컬 환경에서 작업 하시는 경우\n",
        "- 제출 스크립트 파일 이름을 반드시 ***task.ipynb***로 해주세요.\n",
        "</br></br>\n",
        "\n",
        "### 공통\n",
        "- 제출 스크립트에 학습 코드를 포함하지 말아주세요. 학습 코드는 별도 작업 공간에서 진행해주세요.\n",
        "- 현재 작업중인 경로에서 모델 추론에 불필요한 파일(학습 데이터 등...)이 제출되지 않도록 주의해주세요.\n",
        "- 모든 경로는 현재 작업중인 스크립트 파일을 기준으로 **상대 경로**로 설정해주세요.\n",
        "- 이번 베타 테스트의 추론 환경은 CPU만 사용하여 평가를 진행하니 참고하여 코드를 작성해주세요.\n",
        "- AIF의 추론 환경은 Colab과 완전히 동일하지 않으니, 추론 환경에 설치된 패키지 항목을 참고하신 후 필요한 패키지를 설치해주세요.\n",
        "\n",
        "</br></br>\n",
        "**추론 환경에 설치된 패키지 리스트**\n",
        "```\n",
        "tensorflow==2.11.1\n",
        "keras-cv\n",
        "torch==1.12.1+cu113 torchvision==0.13.1+cu113 torchaudio==0.12.1\n",
        "albumentations\n",
        "transformers\n",
        "scikit-learn\n",
        "numpy\n",
        "Cython\n",
        "pycocotools\n",
        "pandas\n",
        "jupyter\n",
        "notebook\n",
        "matplotlib\n",
        "seaborn\n",
        "plotly\n",
        "Pillow\n",
        "opencv-python\n",
        "scikit-image\n",
        "```"
      ],
      "metadata": {
        "id": "7TBy49zBjkmu"
      }
    },
    {
      "cell_type": "markdown",
      "source": [
        "# 필요 패키지 설치"
      ],
      "metadata": {
        "id": "NscLBDpxDyHb"
      }
    },
    {
      "cell_type": "code",
      "source": [
        "# aifactory 패키지는 반드시 설치해주세요!\n",
        "!pip install -U aifactory"
      ],
      "metadata": {
        "id": "ciSCTYBlDq0J"
      },
      "execution_count": null,
      "outputs": []
    },
    {
      "cell_type": "code",
      "source": [
        "# 필요한 패키지를 추가로 설치해주세요.\n",
        "!pip install gdown\n",
        "!pip install transformers\n",
        "!pip install konlpy\n",
        "# ..."
      ],
      "metadata": {
        "id": "BqpRip5lEsvq"
      },
      "execution_count": null,
      "outputs": []
    },
    {
      "cell_type": "code",
      "source": [
        "# 패키지 임포트\n",
        "import os\n",
        "import random\n",
        "import numpy as np\n",
        "import torch\n",
        "import tensorflow as tf\n",
        "import transformers\n",
        "# ..."
      ],
      "metadata": {
        "id": "eJWdW2OCFnA1"
      },
      "execution_count": null,
      "outputs": []
    },
    {
      "cell_type": "code",
      "source": [
        "# 무작위성 통제\n",
        "SEED = 42\n",
        "random.seed(SEED)\n",
        "np.random.seed(SEED)\n",
        "tf.random.set_seed(SEED)\n",
        "# ..."
      ],
      "metadata": {
        "id": "eUIfvx54NAOO"
      },
      "execution_count": null,
      "outputs": []
    },
    {
      "cell_type": "markdown",
      "source": [
        "# 모델 로드 함수를 정의해주세요.\n",
        "- 모델 로드 함수는 참가자 분들께서 이미 학습 완료한 모델 가중치 파일을 읽어와 메모리에 올려 놓은 후 반환 되어야 합니다.\n",
        "- 모델 가중치 파일을 현재 노트북 파일 기준 ***동일 경로 또는 하위 경로***에 있어야하며, ***상대 경로***로 설정 되어야 합니다.\n",
        "- Colab에서 작업 하시는 경우 가중치 파일을 수동으로 업로드 하시거나 또는,  \n",
        "개인 구글 드라이브에 업로드 후(***공유 권한: 링크가 있는 모든 사용자***) `gdown`을 통해 다운 받아 사용하세요.\n",
        "- 이 함수가 받는 인자(Arguments)는 없거나, default 값으로 설정 되어야 합니다.\n",
        "- 함수 명칭은 자유롭게 정의해주세요.\n",
        "\n",
        "\n",
        "```python\n",
        "# Example 1\n",
        "import gdown\n",
        "\n",
        "def tf_load_model():\n",
        "    weights_path = './my_weights.h5'\n",
        "    gdown.downalod(\"GoolgeDriveSharedLink\", weights_path, fuzzy=True)\n",
        "    ...\n",
        "    model.load_weights(weights_path)\n",
        "    return model\n",
        "\n",
        "# Example 2\n",
        "def torch_load_model(weights_path='./my_weights.h5'):\n",
        "    ...\n",
        "    model.load_state_dict(torch.load(weights_path))\n",
        "    model.eval()\n",
        "    return model\n",
        "```\n"
      ],
      "metadata": {
        "id": "OevxGm_VN6TT"
      }
    },
    {
      "cell_type": "code",
      "source": [
        "def load_model():\n",
        "    # 모델 아키텍쳐\n",
        "    classification_model = Sequential([\n",
        "        layers.LSTM(...)\n",
        "        ...\n",
        "        layers.Dense(1, )\n",
        "    ])\n",
        "\n",
        "    # 모델 가중치 로드\n",
        "    classification_model.load_weights('./my_weights.h5')\n",
        "\n",
        "    # ...\n",
        "    tokenizer = Tokenizer()\n",
        "\n",
        "    return classification_model, tokenizer"
      ],
      "metadata": {
        "id": "_I-aCh1PNNny"
      },
      "execution_count": null,
      "outputs": []
    },
    {
      "cell_type": "markdown",
      "source": [
        "# 예측 함수를 정의해주세요.\n",
        "- 예측 함수는 반드시 **2개의 인자**를 다음과 같이 순서대로 받아야합니다.\n",
        "    - 첫 번째 인자 - AIF가 제공하는 평가 입력 데이터(X_test)\n",
        "    - 두 번째 인자 - 가중치를 읽어온 모델\n",
        "\n",
        "- 첫 번째 인자(X_test)는 ***평가용 영화 리뷰 글***들의 경로가 담긴 ***\bList***를 전달합니다.  \n",
        "    - `X_test = ['너무 웃겨서 제대로 못봄', '극장에서 상영하면 죽여버린다', '재밌는 코미디 영화네요^^', ... ]`\n",
        "    - X_test가 제공되는 형식을 참고하여 예측 및 전/후 처리를 통해 **출력 규칙**에 맞게 결과를 반환해주세요.\n",
        "    \n",
        "- **출력 규칙**\n",
        "    - X_test 전체 예측값을 1(긍정)과 0(부정)으로 구성된 ***List***를 반환해주세요.\n",
        "    `[1, 0, 1, 0, 1, ...]`\n",
        "\n"
      ],
      "metadata": {
        "id": "7QOGhZD6PE0E"
      }
    },
    {
      "cell_type": "code",
      "source": [
        "# 예측 함수는 AIF에서 제공하는 X_test의 입력 정보와, 메모리에 올라간 사전 학습 모델을 입력 받습니다.\n",
        "def predict(X_test, model):\n",
        "    result = []\n",
        "    for text in X_test:\n",
        "        pred = model.predict(text)\n",
        "        ...\n",
        "        result.append(pred)\n",
        "\n",
        "    # result = [1, 0, 1, 0, ...]\n",
        "    return result\n"
      ],
      "metadata": {
        "id": "s_e99Ui9zCrg"
      },
      "execution_count": null,
      "outputs": []
    },
    {
      "cell_type": "markdown",
      "source": [
        "# submit 함수를 정의해 주세요.  \n",
        "- 이 함수의 명칭은 \u001f반드시 **submit** 으로 해주세요.\n",
        "- **submit** 함수는 AIF가 참가자분들이 정의한 2개의 함수를 전달받아 실행하기 위해 사용됩니다.\n",
        "- **submit** 함수를 통해 위에서\u0004정의한 함수를 **1.모델 로드 함수**와 **2.예측 함수** 순으로 반환해 주세요.\n",
        "- AIF가 submit 함수를 통해 채점하는 방식은 다음과 같으니 참고해주세요.  \n",
        "    ```python\n",
        "    # AIF 채점 코드 예시\n",
        "    X_test = ['너무 웃겨서 제대로 못봄', '극장에서 상영하면 죽여버린다', '재밌는 코미디 영화네요^^', ... ]\n",
        "    y_test = [1, 0, 1, ...]\n",
        "\n",
        "    load_model, predict = submit()\n",
        "    models = load_model() # 참가팀 모델 로드 함수 실행\n",
        "    y_pred = predict(X_test, models) # 참가팀 예측 함수 실행\n",
        "\n",
        "    from sklearn.metrics import accuracy_score\n",
        "    score = accuracy_score(y_test, y_pred)\n",
        "    ```"
      ],
      "metadata": {
        "id": "8inwM4_e0TFj"
      }
    },
    {
      "cell_type": "code",
      "source": [
        "\n",
        "def submit():\n",
        "    return load_model, predict"
      ],
      "metadata": {
        "id": "iNHAlWIq0Scb"
      },
      "execution_count": null,
      "outputs": []
    },
    {
      "cell_type": "markdown",
      "source": [
        "# 제출하기\b\n",
        "- aifactory 라이브러리를 통해 submit 함수를 제출합니다.\n",
        "- aif.submit 함수는 반드시 `if __name__ == \"__main__\":` 아래에 작성해주세요.\n",
        "- aifactory.score.submit 함수는 3개의 인자를 받습니다.\n",
        "    - ***model_name*** - 제출시 리더보드에 기록하고자 하는 문구\n",
        "    - ***key*** - 대회 참가자에게 제공되는 TASK_KEY  \n",
        "    - ***func*** - submit 함수\n",
        "\n",
        "- TASK_KEY 확인 방법\n",
        "    - https://aifactory.space/competition/detail/2367 페이지 접속\n",
        "    - 우측 상단 `내정보` -> `태스크 정보` 클릭\n",
        "    - 1분야 : 이미지 모델 퀘스트에서 `사용자 키 보기` 클릭"
      ],
      "metadata": {
        "id": "dUK17GD7zjHI"
      }
    },
    {
      "cell_type": "code",
      "source": [
        "import aifactory.score as aif\n",
        "\n",
        "if __name__ == \"__main__\":\n",
        "    aif.submit(\n",
        "        model_name=\"MyFirstSubmission\",\n",
        "        key='TASK_KEY',\n",
        "        func=submit)"
      ],
      "metadata": {
        "id": "yNKCnX0B0x2g"
      },
      "execution_count": null,
      "outputs": []
    }
  ]
}