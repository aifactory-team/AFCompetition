{
  "nbformat": 4,
  "nbformat_minor": 0,
  "metadata": {
    "colab": {
      "provenance": [],
      "machine_shape": "hm",
      "include_colab_link": true
    },
    "kernelspec": {
      "name": "python3",
      "display_name": "Python 3"
    },
    "gpuClass": "standard"
  },
  "cells": [
    {
      "cell_type": "markdown",
      "metadata": {
        "id": "view-in-github",
        "colab_type": "text"
      },
      "source": [
        "<a href=\"https://colab.research.google.com/github/jhlee93/AFCompetition/blob/main/2324/2324_SQuADv2_BERT_Submit.ipynb\" target=\"_parent\"><img src=\"https://colab.research.google.com/assets/colab-badge.svg\" alt=\"Open In Colab\"/></a>"
      ]
    },
    {
      "cell_type": "markdown",
      "source": [
        "### reference\n",
        "https://github.com/alexaapo/BERT-based-pretrained-model-using-SQuAD-2.0-dataset"
      ],
      "metadata": {
        "id": "7HuNSzFzsf5f"
      }
    },
    {
      "cell_type": "code",
      "metadata": {
        "id": "iiXMZ8DCGTAd"
      },
      "source": [
        "!pip install -q transformers\n",
        "!pip install -q aifactory\n",
        "!pip install -q ipynbname"
      ],
      "execution_count": null,
      "outputs": []
    },
    {
      "cell_type": "code",
      "metadata": {
        "id": "7ceLmdhiLCc2"
      },
      "source": [
        "import os\n",
        "import aifactory.grade as aif\n",
        "import ipynbname\n",
        "\n",
        "import torch\n",
        "from transformers import AutoTokenizer,BertTokenizerFast, BertForQuestionAnswering"
      ],
      "execution_count": null,
      "outputs": []
    },
    {
      "cell_type": "code",
      "metadata": {
        "id": "jbLzCx8FLN4K"
      },
      "source": [
        "def build_model():\n",
        "    # Define the bert tokenizer\n",
        "    tokenizer = AutoTokenizer.from_pretrained('bert-large-uncased-whole-word-masking-finetuned-squad')\n",
        "\n",
        "    # Load the fine-tuned modeol\n",
        "    model = BertForQuestionAnswering.from_pretrained('bert-large-uncased-whole-word-masking-finetuned-squad')\n",
        "    model.eval()\n",
        "    return (tokenizer, model)\n",
        "\n",
        "def predict(input_data, model):\n",
        "    tokenizer, model = model\n",
        "\n",
        "    submit_answer = []\n",
        "    for x in input_data:\n",
        "        context, question = x[\"context\"], x[\"question\"]\n",
        "        inputs = tokenizer.encode_plus(question, context, return_tensors='pt')\n",
        "\n",
        "        outputs = model(**inputs)\n",
        "        answer_start = torch.argmax(outputs[0])  # get the most likely beginning of answer with the argmax of the score\n",
        "        answer_end = torch.argmax(outputs[1]) + 1 \n",
        "\n",
        "        answer = tokenizer.convert_tokens_to_string(tokenizer.convert_ids_to_tokens(inputs['input_ids'][0][answer_start:answer_end]))\n",
        "        submit_answer.append(answer)\n",
        "\n",
        "    return submit_answer\n",
        "\n",
        "def submit():\n",
        "    return [build_model, predict]"
      ],
      "execution_count": null,
      "outputs": []
    },
    {
      "cell_type": "code",
      "metadata": {
        "id": "of5UVn92-RbC",
        "colab": {
          "base_uri": "https://localhost:8080/"
        },
        "outputId": "bacef542-7c3f-4c79-f9dd-b49e3b28134f"
      },
      "source": [
        "if __name__ == \"__main__\":\n",
        "    filename = ''\n",
        "    try: \n",
        "        filename = ipynbname.name()\n",
        "    except Exception as e:\n",
        "        filename = os.path.basename(__file__)\n",
        "    print('###', filename)\n",
        "    aif.submit(\"MODEL_NAME\", \"TASK_KEY\", filename, submit)"
      ],
      "execution_count": null,
      "outputs": [
        {
          "output_type": "stream",
          "name": "stdout",
          "text": [
            "### fileId=1a9Cm7LRahH9IM4FJ35RM2kfGkDSXhayG\n",
            "Running on CoLab\n",
            "google colab\n"
          ]
        },
        {
          "output_type": "stream",
          "name": "stderr",
          "text": [
            "Downloading...\n",
            "From: https://drive.google.com/uc?id=1a9Cm7LRahH9IM4FJ35RM2kfGkDSXhayG\n",
            "To: /content/task.ipynb\n",
            "100%|██████████| 3.70k/3.70k [00:00<00:00, 4.07MB/s]\n"
          ]
        },
        {
          "output_type": "stream",
          "name": "stdout",
          "text": [
            "success\n"
          ]
        }
      ]
    }
  ]
}