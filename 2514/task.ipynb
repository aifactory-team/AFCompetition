{
  "cells": [
    {
      "attachments": {},
      "cell_type": "markdown",
      "metadata": {
        "id": "nSjrc8ZOMV_2"
      },
      "source": [
        "# 안녕하세요. AIFactory입니다 ☺️\n",
        "이 노트북은 제출을 위한 MNIST Tutorial 가이드라인 입니다.\n",
        "\n",
        "Colab 사용자는 반드시 구글 드라이브에 사본을 저장을(`파일` -> `Drive에 사본 저장`) 하신 후에, 사본 노트북에서 작업을 해주세요.\n",
        "\n"
      ]
    },
    {
      "attachments": {},
      "cell_type": "markdown",
      "metadata": {
        "id": "z_Q0Wg-K4cfH"
      },
      "source": [
        "# 주의 사항\n",
        "1. 이 노트북은 추론 자동화 제출을 위한 노트북이니 **학습 코드는 반드시 별도 스크립트에서 진행**해주세요.\n",
        "2. **Colab 사용자는 권한을 공유 -> 링크가 있는 모든 사용자** 로 설정해주세요.\n",
        "3. **Colab 사용자는 구글 드라이브 마운트 작업은 하지 말아주세요.** AIF 채점 환경에서 개인 구글 드라이브에 엑세스 할 수 없습니다.\n",
        "4. 현재 작업중인 경로에서 모델 추론에 **불필요한 파일이 제출되지 않도록 주의**해주세요.\n",
        "5. 모든 경로는 현재 작업중인 스크립트 파일(task.ipynb)을 기준으로 **상대 경로**로 설정해주세요.\n",
        "6. AIFactory의 추론 환경은 Colab 환경과 완전히 동일하지 않으니, 아래에서 AIFactory 추론 환경에 설치된 패키지 항목을 참고하신 후 필요한 패키지를 설치해주세요.\n",
        "7. 채점 환경은 CPU만 사용하여 평가를 진행하니 참고하여 코드를 작성해주세요.\n",
        "\n",
        "[추론 환경에 설치된 패키지 리스트]\n",
        "```\n",
        "tensorflow==2.11.1\n",
        "keras-cv\n",
        "torch==1.12.1+cu113 torchvision==0.13.1+cu113 torchaudio==0.12.1\n",
        "albumentations\n",
        "transformers\n",
        "scikit-learn\n",
        "numpy\n",
        "Cython\n",
        "pycocotools\n",
        "pandas\n",
        "jupyter\n",
        "notebook\n",
        "matplotlib\n",
        "seaborn\n",
        "plotly\n",
        "Pillow\n",
        "opencv-python\n",
        "scikit-image\n",
        "```"
      ]
    },
    {
      "attachments": {},
      "cell_type": "markdown",
      "metadata": {
        "id": "NscLBDpxDyHb"
      },
      "source": [
        "# 필요 패키지 설치\n",
        "현재 작업 환경에 필요한 패키지를 설치합니다."
      ]
    },
    {
      "cell_type": "code",
      "execution_count": 12,
      "metadata": {
        "colab": {
          "base_uri": "https://localhost:8080/"
        },
        "id": "BqpRip5lEsvq",
        "outputId": "f61d3be7-86f9-49c2-b6cb-11c6350fb47f"
      },
      "outputs": [
        {
          "name": "stdout",
          "output_type": "stream",
          "text": [
            "Requirement already satisfied: aifactory in /Users/jaehyeon/miniconda3/envs/aif-autoinfer/lib/python3.9/site-packages (1.6.21)\n",
            "Requirement already satisfied: IPython in /Users/jaehyeon/miniconda3/envs/aif-autoinfer/lib/python3.9/site-packages (from aifactory) (8.12.0)\n",
            "Requirement already satisfied: ipynbname in /Users/jaehyeon/miniconda3/envs/aif-autoinfer/lib/python3.9/site-packages (from aifactory) (2021.3.2)\n",
            "Requirement already satisfied: pipreqs in /Users/jaehyeon/miniconda3/envs/aif-autoinfer/lib/python3.9/site-packages (from aifactory) (0.4.12)\n",
            "Requirement already satisfied: requests in /Users/jaehyeon/miniconda3/envs/aif-autoinfer/lib/python3.9/site-packages (from aifactory) (2.28.2)\n",
            "Requirement already satisfied: gdown in /Users/jaehyeon/miniconda3/envs/aif-autoinfer/lib/python3.9/site-packages (from aifactory) (4.7.1)\n",
            "Requirement already satisfied: six in /Users/jaehyeon/miniconda3/envs/aif-autoinfer/lib/python3.9/site-packages (from gdown->aifactory) (1.16.0)\n",
            "Requirement already satisfied: filelock in /Users/jaehyeon/miniconda3/envs/aif-autoinfer/lib/python3.9/site-packages (from gdown->aifactory) (3.11.0)\n",
            "Requirement already satisfied: tqdm in /Users/jaehyeon/miniconda3/envs/aif-autoinfer/lib/python3.9/site-packages (from gdown->aifactory) (4.65.0)\n",
            "Requirement already satisfied: beautifulsoup4 in /Users/jaehyeon/miniconda3/envs/aif-autoinfer/lib/python3.9/site-packages (from gdown->aifactory) (4.12.2)\n",
            "Requirement already satisfied: ipykernel in /Users/jaehyeon/miniconda3/envs/aif-autoinfer/lib/python3.9/site-packages (from ipynbname->aifactory) (6.22.0)\n",
            "Requirement already satisfied: typing-extensions in /Users/jaehyeon/miniconda3/envs/aif-autoinfer/lib/python3.9/site-packages (from IPython->aifactory) (4.5.0)\n",
            "Requirement already satisfied: pygments>=2.4.0 in /Users/jaehyeon/miniconda3/envs/aif-autoinfer/lib/python3.9/site-packages (from IPython->aifactory) (2.15.0)\n",
            "Requirement already satisfied: backcall in /Users/jaehyeon/miniconda3/envs/aif-autoinfer/lib/python3.9/site-packages (from IPython->aifactory) (0.2.0)\n",
            "Requirement already satisfied: jedi>=0.16 in /Users/jaehyeon/miniconda3/envs/aif-autoinfer/lib/python3.9/site-packages (from IPython->aifactory) (0.18.2)\n",
            "Requirement already satisfied: prompt-toolkit!=3.0.37,<3.1.0,>=3.0.30 in /Users/jaehyeon/miniconda3/envs/aif-autoinfer/lib/python3.9/site-packages (from IPython->aifactory) (3.0.38)\n",
            "Requirement already satisfied: appnope in /Users/jaehyeon/miniconda3/envs/aif-autoinfer/lib/python3.9/site-packages (from IPython->aifactory) (0.1.3)\n",
            "Requirement already satisfied: traitlets>=5 in /Users/jaehyeon/miniconda3/envs/aif-autoinfer/lib/python3.9/site-packages (from IPython->aifactory) (5.9.0)\n",
            "Requirement already satisfied: matplotlib-inline in /Users/jaehyeon/miniconda3/envs/aif-autoinfer/lib/python3.9/site-packages (from IPython->aifactory) (0.1.6)\n",
            "Requirement already satisfied: decorator in /Users/jaehyeon/miniconda3/envs/aif-autoinfer/lib/python3.9/site-packages (from IPython->aifactory) (5.1.1)\n",
            "Requirement already satisfied: stack-data in /Users/jaehyeon/miniconda3/envs/aif-autoinfer/lib/python3.9/site-packages (from IPython->aifactory) (0.6.2)\n",
            "Requirement already satisfied: pickleshare in /Users/jaehyeon/miniconda3/envs/aif-autoinfer/lib/python3.9/site-packages (from IPython->aifactory) (0.7.5)\n",
            "Requirement already satisfied: pexpect>4.3 in /Users/jaehyeon/miniconda3/envs/aif-autoinfer/lib/python3.9/site-packages (from IPython->aifactory) (4.8.0)\n",
            "Requirement already satisfied: docopt in /Users/jaehyeon/miniconda3/envs/aif-autoinfer/lib/python3.9/site-packages (from pipreqs->aifactory) (0.6.2)\n",
            "Requirement already satisfied: yarg in /Users/jaehyeon/miniconda3/envs/aif-autoinfer/lib/python3.9/site-packages (from pipreqs->aifactory) (0.1.9)\n",
            "Requirement already satisfied: idna<4,>=2.5 in /Users/jaehyeon/miniconda3/envs/aif-autoinfer/lib/python3.9/site-packages (from requests->aifactory) (3.4)\n",
            "Requirement already satisfied: certifi>=2017.4.17 in /Users/jaehyeon/miniconda3/envs/aif-autoinfer/lib/python3.9/site-packages (from requests->aifactory) (2022.12.7)\n",
            "Requirement already satisfied: charset-normalizer<4,>=2 in /Users/jaehyeon/miniconda3/envs/aif-autoinfer/lib/python3.9/site-packages (from requests->aifactory) (3.1.0)\n",
            "Requirement already satisfied: urllib3<1.27,>=1.21.1 in /Users/jaehyeon/miniconda3/envs/aif-autoinfer/lib/python3.9/site-packages (from requests->aifactory) (1.26.15)\n",
            "Requirement already satisfied: parso<0.9.0,>=0.8.0 in /Users/jaehyeon/miniconda3/envs/aif-autoinfer/lib/python3.9/site-packages (from jedi>=0.16->IPython->aifactory) (0.8.3)\n",
            "Requirement already satisfied: ptyprocess>=0.5 in /Users/jaehyeon/miniconda3/envs/aif-autoinfer/lib/python3.9/site-packages (from pexpect>4.3->IPython->aifactory) (0.7.0)\n",
            "Requirement already satisfied: wcwidth in /Users/jaehyeon/miniconda3/envs/aif-autoinfer/lib/python3.9/site-packages (from prompt-toolkit!=3.0.37,<3.1.0,>=3.0.30->IPython->aifactory) (0.2.6)\n",
            "Requirement already satisfied: soupsieve>1.2 in /Users/jaehyeon/miniconda3/envs/aif-autoinfer/lib/python3.9/site-packages (from beautifulsoup4->gdown->aifactory) (2.4)\n",
            "Requirement already satisfied: jupyter-core!=5.0.*,>=4.12 in /Users/jaehyeon/miniconda3/envs/aif-autoinfer/lib/python3.9/site-packages (from ipykernel->ipynbname->aifactory) (5.3.0)\n",
            "Requirement already satisfied: pyzmq>=20 in /Users/jaehyeon/miniconda3/envs/aif-autoinfer/lib/python3.9/site-packages (from ipykernel->ipynbname->aifactory) (25.0.2)\n",
            "Requirement already satisfied: packaging in /Users/jaehyeon/miniconda3/envs/aif-autoinfer/lib/python3.9/site-packages (from ipykernel->ipynbname->aifactory) (23.0)\n",
            "Requirement already satisfied: jupyter-client>=6.1.12 in /Users/jaehyeon/miniconda3/envs/aif-autoinfer/lib/python3.9/site-packages (from ipykernel->ipynbname->aifactory) (8.1.0)\n",
            "Requirement already satisfied: nest-asyncio in /Users/jaehyeon/miniconda3/envs/aif-autoinfer/lib/python3.9/site-packages (from ipykernel->ipynbname->aifactory) (1.5.6)\n",
            "Requirement already satisfied: comm>=0.1.1 in /Users/jaehyeon/miniconda3/envs/aif-autoinfer/lib/python3.9/site-packages (from ipykernel->ipynbname->aifactory) (0.1.3)\n",
            "Requirement already satisfied: psutil in /Users/jaehyeon/miniconda3/envs/aif-autoinfer/lib/python3.9/site-packages (from ipykernel->ipynbname->aifactory) (5.8.0)\n",
            "Requirement already satisfied: debugpy>=1.6.5 in /Users/jaehyeon/miniconda3/envs/aif-autoinfer/lib/python3.9/site-packages (from ipykernel->ipynbname->aifactory) (1.6.7)\n",
            "Requirement already satisfied: tornado>=6.1 in /Users/jaehyeon/miniconda3/envs/aif-autoinfer/lib/python3.9/site-packages (from ipykernel->ipynbname->aifactory) (6.2)\n",
            "Requirement already satisfied: PySocks!=1.5.7,>=1.5.6 in /Users/jaehyeon/miniconda3/envs/aif-autoinfer/lib/python3.9/site-packages (from requests->aifactory) (1.7.1)\n",
            "Requirement already satisfied: executing>=1.2.0 in /Users/jaehyeon/miniconda3/envs/aif-autoinfer/lib/python3.9/site-packages (from stack-data->IPython->aifactory) (1.2.0)\n",
            "Requirement already satisfied: asttokens>=2.1.0 in /Users/jaehyeon/miniconda3/envs/aif-autoinfer/lib/python3.9/site-packages (from stack-data->IPython->aifactory) (2.2.1)\n",
            "Requirement already satisfied: pure-eval in /Users/jaehyeon/miniconda3/envs/aif-autoinfer/lib/python3.9/site-packages (from stack-data->IPython->aifactory) (0.2.2)\n",
            "Requirement already satisfied: python-dateutil>=2.8.2 in /Users/jaehyeon/miniconda3/envs/aif-autoinfer/lib/python3.9/site-packages (from jupyter-client>=6.1.12->ipykernel->ipynbname->aifactory) (2.8.2)\n",
            "Requirement already satisfied: importlib-metadata>=4.8.3 in /Users/jaehyeon/miniconda3/envs/aif-autoinfer/lib/python3.9/site-packages (from jupyter-client>=6.1.12->ipykernel->ipynbname->aifactory) (6.3.0)\n",
            "Requirement already satisfied: platformdirs>=2.5 in /Users/jaehyeon/miniconda3/envs/aif-autoinfer/lib/python3.9/site-packages (from jupyter-core!=5.0.*,>=4.12->ipykernel->ipynbname->aifactory) (3.2.0)\n",
            "Requirement already satisfied: zipp>=0.5 in /Users/jaehyeon/miniconda3/envs/aif-autoinfer/lib/python3.9/site-packages (from importlib-metadata>=4.8.3->jupyter-client>=6.1.12->ipykernel->ipynbname->aifactory) (3.15.0)\n",
            "Requirement already satisfied: gdown in /Users/jaehyeon/miniconda3/envs/aif-autoinfer/lib/python3.9/site-packages (4.7.1)\n",
            "Requirement already satisfied: tqdm in /Users/jaehyeon/miniconda3/envs/aif-autoinfer/lib/python3.9/site-packages (from gdown) (4.65.0)\n",
            "Requirement already satisfied: requests[socks] in /Users/jaehyeon/miniconda3/envs/aif-autoinfer/lib/python3.9/site-packages (from gdown) (2.28.2)\n",
            "Requirement already satisfied: filelock in /Users/jaehyeon/miniconda3/envs/aif-autoinfer/lib/python3.9/site-packages (from gdown) (3.11.0)\n",
            "Requirement already satisfied: six in /Users/jaehyeon/miniconda3/envs/aif-autoinfer/lib/python3.9/site-packages (from gdown) (1.16.0)\n",
            "Requirement already satisfied: beautifulsoup4 in /Users/jaehyeon/miniconda3/envs/aif-autoinfer/lib/python3.9/site-packages (from gdown) (4.12.2)\n",
            "Requirement already satisfied: soupsieve>1.2 in /Users/jaehyeon/miniconda3/envs/aif-autoinfer/lib/python3.9/site-packages (from beautifulsoup4->gdown) (2.4)\n",
            "Requirement already satisfied: charset-normalizer<4,>=2 in /Users/jaehyeon/miniconda3/envs/aif-autoinfer/lib/python3.9/site-packages (from requests[socks]->gdown) (3.1.0)\n",
            "Requirement already satisfied: certifi>=2017.4.17 in /Users/jaehyeon/miniconda3/envs/aif-autoinfer/lib/python3.9/site-packages (from requests[socks]->gdown) (2022.12.7)\n",
            "Requirement already satisfied: idna<4,>=2.5 in /Users/jaehyeon/miniconda3/envs/aif-autoinfer/lib/python3.9/site-packages (from requests[socks]->gdown) (3.4)\n",
            "Requirement already satisfied: urllib3<1.27,>=1.21.1 in /Users/jaehyeon/miniconda3/envs/aif-autoinfer/lib/python3.9/site-packages (from requests[socks]->gdown) (1.26.15)\n",
            "Requirement already satisfied: PySocks!=1.5.7,>=1.5.6 in /Users/jaehyeon/miniconda3/envs/aif-autoinfer/lib/python3.9/site-packages (from requests[socks]->gdown) (1.7.1)\n"
          ]
        }
      ],
      "source": [
        "!pip install -U aifactory\n",
        "!pip install -U gdown"
      ]
    },
    {
      "cell_type": "code",
      "execution_count": 13,
      "metadata": {
        "id": "eJWdW2OCFnA1"
      },
      "outputs": [],
      "source": [
        "import random\n",
        "import numpy as np\n",
        "import tensorflow as tf\n",
        "from tensorflow import keras"
      ]
    },
    {
      "cell_type": "code",
      "execution_count": 14,
      "metadata": {
        "id": "eUIfvx54NAOO"
      },
      "outputs": [],
      "source": [
        "SEED = 42\n",
        "random.seed(SEED)\n",
        "np.random.seed(SEED)\n",
        "tf.random.set_seed(SEED)"
      ]
    },
    {
      "cell_type": "code",
      "execution_count": null,
      "metadata": {},
      "outputs": [],
      "source": [
        "# 학습 시킨 모델 가중치 파일을 원하는 경로에 미리 준비합니다.\n",
        "# 이 튜토리얼 코드에서는 사전에 구글 드라이브에 업로드한 가중치 파일을 다운 받는 방식을 사용합니다.\n",
        "\n",
        "# 가중치 파일은 반드시 다운 받는 방식을 사용 할 필요는 없습니다.\n",
        "# 현재 스크립트 (task.ipynb) 파일을 기준으로 하위 경로에 가중치 파일을 위치 시킨 후 함께 제출 할 수 있습니다.\n",
        "# 단, 현재 스크립트 파일 보다 상위 경로는 채점 시 접근이 불가능하니 주의해주세요.\n",
        "# 자세한 내용은 아래 셀에서 모델 로드 함수를 정의하는 예시를 참고해주세요.\n",
        "\n",
        "import gdown\n",
        "gdown.download(\n",
        "    \"https://drive.google.com/file/d/1unELto9YnFkslkc7woweBElQ9yoMnN9Q/view?usp=sharing\",\n",
        "    \"./weights.h5\", fuzzy=True)"
      ]
    },
    {
      "attachments": {},
      "cell_type": "markdown",
      "metadata": {
        "id": "OevxGm_VN6TT"
      },
      "source": [
        "# 모델 로드 함수를 정의해주세요.\n",
        "\n",
        "- 함수 명칭은 자유롭게 정의해주세요.\n",
        "- 이 함수가 받는 인자(Arguments)는 없거나, default 값으로 설정 되어야 합니다.\n",
        "- 모델 로드 함수는 참가자 분들께서 이미 학습 완료한 모델 가중치 파일을 읽어와 메모리에 올려 놓은 후 반환 되어야 합니다.\n",
        "- 모델 가중치 파일을 현재 노트북 파일 기준 상대 경로로 설정해주세요.\n",
        "\n",
        "\n",
        "```python\n",
        "# Example 1\n",
        "def tf_load_model():\n",
        "    ...\n",
        "    model.load_weights('./weights_dir/my_weights.h5')\n",
        "    return model\n",
        "\n",
        "# Example 2\n",
        "def torch_load_model(weights_path='./my_weights.h5'):\n",
        "    ...\n",
        "    model.load_state_dict(torch.load(weights_path))\n",
        "    model.eval()\n",
        "    return model\n",
        "```\n"
      ]
    },
    {
      "cell_type": "code",
      "execution_count": 15,
      "metadata": {
        "id": "_I-aCh1PNNny"
      },
      "outputs": [],
      "source": [
        "def custom_load_model():\n",
        "    # define model\n",
        "    model = keras.models.Sequential([\n",
        "        keras.layers.Dense(64, input_dim=28*28, activation='relu'), \n",
        "        keras.layers.Dense(32, activation='relu'), \n",
        "        keras.layers.Dense(10, activation='softmax')\n",
        "    ])\n",
        "    \n",
        "    # compile model\n",
        "    model.compile(loss='sparse_categorical_crossentropy', optimizer='adam', metrics=['accuracy'])\n",
        "\n",
        "    # load weights file\n",
        "    model.load_weights('./weights.h5')\n",
        "\n",
        "    return model"
      ]
    },
    {
      "attachments": {},
      "cell_type": "markdown",
      "metadata": {
        "id": "7QOGhZD6PE0E"
      },
      "source": [
        "# 추론 함수를 정의해주세요.\n",
        "***입력 규칙*** - 추론 함수는 반드시 **2개의 인자**를 다음과 같이 순서대로 받아야합니다.\n",
        "- 첫 번째 인자 - AIFactory가 제공하는 평가 입력 데이터(X_test)로, (10000, 28, 28) 형태의 Numpy 배열\n",
        "- 두 번째 인자 - 가중치를 읽어온 모델\n",
        "\n",
        "<br>\n",
        "\n",
        "***출력 규칙*** - 추론 함수는 예측 및 전/후 처리를 통해 반드시 다음 출력 규칙에 맞게 반환 되어야 정상적이 채점이 가능합니다.\n",
        "- 예측값은 반드시 ***int*** 타입으로 설정해주세요.\n",
        "- X_test 전체(10,000개)의 예측값을 ***1차원 List 또는 Numpy 배열*** 형태로 반환해주세요.  \n",
        "    - 추론 함수 반환값 예시: `[0, 3, 1, 2, 5, ... ]` (10,000개의 예측값)"
      ]
    },
    {
      "cell_type": "code",
      "execution_count": 16,
      "metadata": {
        "id": "s_e99Ui9zCrg"
      },
      "outputs": [],
      "source": [
        "# 추론 함수는 AIF에서 제공하는 (Arg1) X_test의 입력 정보와, (Arg2) 메모리에 올라간 사전 학습 모델을 입력 받습니다.\n",
        "def custom_inference(X_test, model):\n",
        "    # 내가 정의한 모델의 입력 형식에 맞게 변환합니다.\n",
        "    X_test = X_test.reshape(10000, -1) # (10000, 28, 28) -> (10000, 784)\n",
        "\n",
        "    # 예측    \n",
        "    prob_pred = model.predict(X_test)\n",
        "\n",
        "    # 출력 규칙을 따라 예측값을 반환해주세요.\n",
        "    prob_label = prob_pred.argmax(axis=-1)\n",
        "\n",
        "    return prob_label\n"
      ]
    },
    {
      "attachments": {},
      "cell_type": "markdown",
      "metadata": {
        "id": "dUK17GD7zjHI"
      },
      "source": [
        "# 제출하기\n",
        "- aifactory 라이브러리를 통해 함수를 제출합니다.\n",
        "- ***aifactory.submit_kwargs*** 함수는 4개의 인자를 받습니다.\n",
        "    - ***model_name*** - 제출시 리더보드에 기록하고자 하는 문구\n",
        "    - ***key*** - 대회 참가자에게 제공되는 TASK_KEY  \n",
        "    - ***load_model_fn*** - model load 함수\n",
        "    - ***inference_fn*** - predict 함수    \n",
        "\n",
        "<br>\n",
        "\n",
        "- TASK_KEY 확인 방법\n",
        "    - https://aifactory.space/competition/detail/2514 페이지 접속\n",
        "    - 우측 상단 `내정보` -> `태스크 정보` 클릭\n",
        "    - 1분야 : 이미지 모델 퀘스트에서 `사용자 키 보기` 클릭"
      ]
    },
    {
      "cell_type": "code",
      "execution_count": 17,
      "metadata": {
        "colab": {
          "base_uri": "https://localhost:8080/"
        },
        "id": "yNKCnX0B0x2g",
        "outputId": "6d4db624-ee25-4007-e845-60b9bd2f8d64"
      },
      "outputs": [
        {
          "name": "stdout",
          "output_type": "stream",
          "text": [
            "file : task.py\n",
            "python\n"
          ]
        },
        {
          "name": "stdout",
          "output_type": "stream",
          "text": [
            "request id : 619 processing...\n",
            "score = 0.9752\n"
          ]
        }
      ],
      "source": [
        "import aifactory.score as aif\n",
        "aif.submit_kwargs(\n",
        "    model_name='First Submission',\n",
        "    key='KEY',\n",
        "    load_model_fn = custom_load_model,\n",
        "    inference_fn = custom_inference\n",
        "    )"
      ]
    },
    {
      "cell_type": "code",
      "execution_count": null,
      "metadata": {
        "id": "4jRlNnm9wMzS"
      },
      "outputs": [],
      "source": []
    },
    {
      "cell_type": "code",
      "execution_count": null,
      "metadata": {},
      "outputs": [],
      "source": []
    }
  ],
  "metadata": {
    "colab": {
      "provenance": []
    },
    "kernelspec": {
      "display_name": "Python 3",
      "name": "python3"
    },
    "language_info": {
      "codemirror_mode": {
        "name": "ipython",
        "version": 3
      },
      "file_extension": ".py",
      "mimetype": "text/x-python",
      "name": "python",
      "nbconvert_exporter": "python",
      "pygments_lexer": "ipython3",
      "version": "3.9.16"
    }
  },
  "nbformat": 4,
  "nbformat_minor": 0
}
