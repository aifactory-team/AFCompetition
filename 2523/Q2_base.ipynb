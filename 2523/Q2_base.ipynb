{
 "cells": [
  {
   "cell_type": "code",
   "execution_count": null,
   "metadata": {},
   "outputs": [],
   "source": [
    "# 분야 2 | 유선 네트워크 장비의 신속한 조치를 위한 경보 유형 분류\n",
    "\n",
    "# 아래의 코드는 다음과 같은 순서로 구성되어 있습니다.\n",
    "# 1. 데이터 로드 및 전처리\n",
    "# 2. 모델 학습 및 예측\n",
    "# 3. 결과 제출\n",
    "# 본 코드는 결과물 제출까지의 이해를 돕기위한 코드로, 반드시 이 구조를 따를 필요는 없습니다.\n",
    "# 데이터 전처리, 모델의 구성 등에서 다양한 시도를 하시되, 올바른 채점을 위한 최종 결과물의 형태에 유의하시기 바랍니다."
   ]
  },
  {
   "cell_type": "code",
   "execution_count": null,
   "metadata": {},
   "outputs": [],
   "source": [
    "# 1. 데이터 로드\n",
    "import pandas as pd\n",
    "\n",
    "def ppr_data(df): \n",
    "    # TODO: 데이터 전처리 코드 구현 ---------- #\n",
    "    df = df.groupby('ticketno').apply(custom_info).reset_index()  # ticketno 기준 병합 및 전처리 수행\n",
    "    \n",
    "    x_df = df.iloc[:, :-1]\n",
    "    y_df = df['root_cause_type']\n",
    "    \n",
    "    # ------------------------------------- #\n",
    "    return x_df, y_df\n",
    "\n",
    "def custom_info(group):  # 임의로 작성된 전처리 코드입니다.\n",
    "    d = {}\n",
    "    group.sort_values(by='alarmtime', ascending=True, inplace=True)  # 경보 순서 정렬\n",
    "    d['alarmmsg_original'] = ' '.join(group['alarmmsg_original'])  # 메시지 단순 병합\n",
    "    if 'root_cause_type' in group.columns:  # 레이블 추출 \n",
    "        d['root_cause_type'] = group['root_cause_type'].iloc[0]  # 동일한 ticketno는 동일한 root_cause_type을 가짐\n",
    "    else:\n",
    "        d['root_cause_type'] = None  # 테스트 세트의 경우 정답 컬럼 없음\n",
    "    return pd.Series(d, index=['alarmmsg_original', 'root_cause_type'])\n",
    "\n",
    "train_df = pd.read_csv(\"Q2_train.csv\")\n",
    "test_df = pd.read_csv(\"Q2_test.csv\")\n",
    "\n",
    "x_train_df, y_train_df = ppr_data(train_df)\n",
    "x_test_df, _ = ppr_data(test_df)  # 테스트 세트의 경우 정답 컬럼 없음"
   ]
  },
  {
   "cell_type": "code",
   "execution_count": null,
   "metadata": {},
   "outputs": [],
   "source": [
    "# 2. 모델 학습 및 예측\n",
    "class MyModel:\n",
    "    def __init__(self) -> None:\n",
    "        self.model = None\n",
    "\n",
    "    def train(self, x_train):\n",
    "        # TODO: 모델 학습 코드 구현 ---------- #\n",
    "        \n",
    "        \n",
    "        # --------------------------------- #\n",
    "        pass\n",
    "\n",
    "    def predict(self, x_test):\n",
    "        # 1. ticketno 컬럼은 입력받은 값으로 채우고, \n",
    "        # 2. pred 컬럼은 모두 'LinkCut' 값으로 채운 데이터프레임 생성\n",
    "        pred_df = pd.DataFrame({'ticketno': x_test['ticketno'].values, 'root_cause_type': ['LinkCut'] * len(x_test)})\n",
    "        return pred_df\n",
    "\n",
    "model = MyModel()\n",
    "model.train(x_train_df, y_train_df)        \n",
    "y_pred = model.predict(x_test_df)"
   ]
  },
  {
   "cell_type": "code",
   "execution_count": null,
   "metadata": {},
   "outputs": [],
   "source": [
    "# 3. 결과 제출\n",
    "# 본 코드는 제출되는 파일의 형태에 대한 가이드로, 반드시 아래 구조를 따를 필요 없이 자유롭게 코드를 작성해도 무방합니다.\n",
    "# 제출 포맷에 대해선 data/Q2_label_sample.csv를 참조하세요.\n",
    "#\n",
    "# 분야 2의 경우, 전표(ticket) 하나에 하나의 근원장애(root_cause_type)을 매칭해야 합니다.\n",
    "#   주의: 경보(alarm) 개수와 전표(ticket) 개수는 다르며, 예측할 대상은 전표입니다.\n",
    "#   주의: ticketno 컬럼 기준으로 오름차순 정렬이 필요합니다.\n",
    "# 분야 2의 제출 파일은 2개 컬럼 [ticketno, root_cause_type]을 가져야 합니다.\n",
    "\n",
    "def submitResult(pred):\n",
    "    try: \n",
    "        label = pd.read_csv('Q2_label_sample.csv')\n",
    "        # ticketno 순서와 개수가 일치하는지 확인\n",
    "        if (label['ticketno'] == pred['ticketno']).all():\n",
    "            print(\"Check: ticketno 순서와 샘플 수가 일치합니다.\")\n",
    "        else:\n",
    "            print(\"Warning: 테스트 세트와 모델 예측의 ticketno가 일치하지 않습니다.\")\n",
    "            return\n",
    "        \n",
    "        pred.to_csv('Q2_submitResult.csv', index=False)\n",
    "        print(\"Done : Q2_submitResult.csv 파일로 저장되었습니다.\")\n",
    "    except Exception as e:\n",
    "        # 예외가 발생한 경우 오류 메시지 출력\n",
    "        print(\"Error:\", e)\n",
    "        \n",
    "submitResult(y_pred)"
   ]
  }
 ],
 "metadata": {
  "language_info": {
   "name": "python"
  },
  "orig_nbformat": 4
 },
 "nbformat": 4,
 "nbformat_minor": 2
}
