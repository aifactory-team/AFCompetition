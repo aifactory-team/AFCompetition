{
  "nbformat": 4,
  "nbformat_minor": 0,
  "metadata": {
    "colab": {
      "provenance": [],
      "collapsed_sections": []
    },
    "kernelspec": {
      "name": "python3",
      "display_name": "Python 3"
    },
    "language_info": {
      "name": "python"
    }
  },
  "cells": [
    {
      "cell_type": "markdown",
      "source": [
        "# 데이터 다운로드"
      ],
      "metadata": {
        "id": "PaTtkzbZkAao"
      }
    },
    {
      "cell_type": "code",
      "execution_count": 1,
      "metadata": {
        "colab": {
          "base_uri": "https://localhost:8080/"
        },
        "id": "j7ThU69NXPe1",
        "outputId": "dffefe78-8a98-448e-c0c5-95eba584e6c8"
      },
      "outputs": [
        {
          "output_type": "stream",
          "name": "stdout",
          "text": [
            "--2022-09-28 19:27:11--  https://raw.githubusercontent.com/aifactory-team/AFCompetition/master/2144/baseline_keras_model.h5\n",
            "Resolving raw.githubusercontent.com (raw.githubusercontent.com)... 185.199.108.133, 185.199.109.133, 185.199.110.133, ...\n",
            "Connecting to raw.githubusercontent.com (raw.githubusercontent.com)|185.199.108.133|:443... connected.\n",
            "HTTP request sent, awaiting response... 200 OK\n",
            "Length: 2453432 (2.3M) [application/octet-stream]\n",
            "Saving to: ‘baseline_keras_model.h5’\n",
            "\n",
            "baseline_keras_mode 100%[===================>]   2.34M  --.-KB/s    in 0.06s   \n",
            "\n",
            "2022-09-28 19:27:11 (36.2 MB/s) - ‘baseline_keras_model.h5’ saved [2453432/2453432]\n",
            "\n",
            "--2022-09-28 19:27:11--  https://raw.githubusercontent.com/aifactory-team/AFCompetition/master/2144/baseline_keras_model_labels.txt\n",
            "Resolving raw.githubusercontent.com (raw.githubusercontent.com)... 185.199.110.133, 185.199.111.133, 185.199.109.133, ...\n",
            "Connecting to raw.githubusercontent.com (raw.githubusercontent.com)|185.199.110.133|:443... connected.\n",
            "HTTP request sent, awaiting response... 200 OK\n",
            "Length: 50 [text/plain]\n",
            "Saving to: ‘baseline_keras_model_labels.txt’\n",
            "\n",
            "baseline_keras_mode 100%[===================>]      50  --.-KB/s    in 0s      \n",
            "\n",
            "2022-09-28 19:27:11 (3.48 MB/s) - ‘baseline_keras_model_labels.txt’ saved [50/50]\n",
            "\n",
            "--2022-09-28 19:27:11--  https://raw.githubusercontent.com/aifactory-team/AFCompetition/master/2144/x_test.zip\n",
            "Resolving raw.githubusercontent.com (raw.githubusercontent.com)... 185.199.108.133, 185.199.110.133, 185.199.109.133, ...\n",
            "Connecting to raw.githubusercontent.com (raw.githubusercontent.com)|185.199.108.133|:443... connected.\n",
            "HTTP request sent, awaiting response... 200 OK\n",
            "Length: 199982 (195K) [application/zip]\n",
            "Saving to: ‘x_test.zip’\n",
            "\n",
            "x_test.zip          100%[===================>] 195.29K  --.-KB/s    in 0.02s   \n",
            "\n",
            "2022-09-28 19:27:11 (7.93 MB/s) - ‘x_test.zip’ saved [199982/199982]\n",
            "\n"
          ]
        }
      ],
      "source": [
        "!wget https://raw.githubusercontent.com/aifactory-team/AFCompetition/master/2144/baseline_keras_model.h5\n",
        "!wget https://raw.githubusercontent.com/aifactory-team/AFCompetition/master/2144/baseline_keras_model_labels.txt\n",
        "!wget https://raw.githubusercontent.com/aifactory-team/AFCompetition/master/2144/x_test.zip"
      ]
    },
    {
      "cell_type": "code",
      "source": [
        "!unzip  -o x_test.zip"
      ],
      "metadata": {
        "colab": {
          "base_uri": "https://localhost:8080/"
        },
        "id": "tnu3lxbaX9mD",
        "outputId": "3f63ffeb-db5e-436c-e248-aade72151b6a"
      },
      "execution_count": 2,
      "outputs": [
        {
          "output_type": "stream",
          "name": "stdout",
          "text": [
            "Archive:  x_test.zip\n",
            "   creating: x_test/\n",
            "  inflating: x_test/92309.jpg        \n",
            "  inflating: __MACOSX/x_test/._92309.jpg  \n",
            "  inflating: x_test/.DS_Store        \n",
            "  inflating: __MACOSX/x_test/._.DS_Store  \n",
            "  inflating: x_test/83823.jpg        \n",
            "  inflating: __MACOSX/x_test/._83823.jpg  \n",
            "  inflating: x_test/29349.jpg        \n",
            "  inflating: __MACOSX/x_test/._29349.jpg  \n",
            "  inflating: x_test/12122.jpg        \n",
            "  inflating: __MACOSX/x_test/._12122.jpg  \n",
            "  inflating: x_test/23992.jpg        \n",
            "  inflating: __MACOSX/x_test/._23992.jpg  \n",
            "  inflating: x_test/32321.jpg        \n",
            "  inflating: __MACOSX/x_test/._32321.jpg  \n",
            "  inflating: x_test/59394.jpg        \n",
            "  inflating: __MACOSX/x_test/._59394.jpg  \n",
            "  inflating: x_test/12342.jpg        \n",
            "  inflating: __MACOSX/x_test/._12342.jpg  \n",
            "  inflating: x_test/88893.jpg        \n",
            "  inflating: __MACOSX/x_test/._88893.jpg  \n",
            "  inflating: x_test/88921.jpg        \n",
            "  inflating: __MACOSX/x_test/._88921.jpg  \n",
            "  inflating: x_test/77923.jpg        \n",
            "  inflating: __MACOSX/x_test/._77923.jpg  \n",
            "  inflating: x_test/88923.jpg        \n",
            "  inflating: __MACOSX/x_test/._88923.jpg  \n",
            "  inflating: x_test/92921.jpg        \n",
            "  inflating: __MACOSX/x_test/._92921.jpg  \n",
            "  inflating: x_test/43413.jpg        \n",
            "  inflating: __MACOSX/x_test/._43413.jpg  \n",
            "  inflating: x_test/29384.jpg        \n",
            "  inflating: __MACOSX/x_test/._29384.jpg  \n",
            "  inflating: x_test/23482.jpg        \n",
            "  inflating: __MACOSX/x_test/._23482.jpg  \n"
          ]
        }
      ]
    },
    {
      "cell_type": "markdown",
      "source": [
        "# 라벨 정보 불러오기"
      ],
      "metadata": {
        "id": "tOysWolakGTv"
      }
    },
    {
      "cell_type": "code",
      "source": [
        "label_dict = {}\n",
        "\n",
        "f = open('baseline_keras_model_labels.txt', 'r')\n",
        "\n",
        "lines = f.readlines()\n",
        "for line in lines:\n",
        "    index, label_name = line.split(' ')\n",
        "    label_dict[int(index)] = label_name.strip()\n",
        "f.close()\n",
        "\n",
        "print(label_dict)"
      ],
      "metadata": {
        "colab": {
          "base_uri": "https://localhost:8080/"
        },
        "id": "qmzJed_1eEpF",
        "outputId": "a12043a5-65f9-4500-efd7-92e460f8151e"
      },
      "execution_count": 3,
      "outputs": [
        {
          "output_type": "stream",
          "name": "stdout",
          "text": [
            "{0: 'standing', 1: 'lyingonbelly', 2: 'lyingonside', 3: 'sitting'}\n"
          ]
        }
      ]
    },
    {
      "cell_type": "markdown",
      "source": [
        "# 학습된 모델로 추론하기"
      ],
      "metadata": {
        "id": "POK674ujkKoR"
      }
    },
    {
      "cell_type": "code",
      "source": [
        "from keras.models import load_model\n",
        "from PIL import Image, ImageOps\n",
        "import numpy as np\n",
        "import os\n",
        "\n",
        "# Load the model\n",
        "model = load_model('baseline_keras_model.h5')\n",
        "\n",
        "# Create the array of the right shape to feed into the keras model\n",
        "# The 'length' or number of images you can put into the array is\n",
        "# determined by the first position in the shape tuple, in this case 1.\n",
        "data = np.ndarray(shape=(1, 224, 224, 3), dtype=np.float32)\n",
        "# Replace this with the path to your image\n",
        "\n",
        "folder_path = 'x_test'\n",
        "\n",
        "y_pred = []\n",
        "\n",
        "for fn in os.listdir(folder_path):\n",
        "  if fn.startswith(\".\"):\n",
        "    continue\n",
        "\n",
        "  fpath = os.path.join(folder_path, fn)\n",
        "\n",
        "  image = Image.open(fpath)\n",
        "  #resize the image to a 224x224 with the same strategy as in TM2:\n",
        "  #resizing the image to be at least 224x224 and then cropping from the center\n",
        "  size = (224, 224)\n",
        "  image = ImageOps.fit(image, size, Image.ANTIALIAS)\n",
        "\n",
        "  #turn the image into a numpy array\n",
        "  image_array = np.asarray(image)\n",
        "  # Normalize the image\n",
        "  normalized_image_array = (image_array.astype(np.float32) / 127.0) - 1\n",
        "  # Load the image into the array\n",
        "  data[0] = normalized_image_array\n",
        "\n",
        "  # run the inference\n",
        "  prediction = model.predict(data)\n",
        "  class_index = np.argmax(prediction)\n",
        "  \n",
        "  print(fn, label_dict[class_index])\n",
        "\n",
        "  y_pred.append([fn, label_dict[class_index]])"
      ],
      "metadata": {
        "colab": {
          "base_uri": "https://localhost:8080/"
        },
        "id": "G-t1QntgX0f4",
        "outputId": "99cfcbf1-3233-4ac7-ad20-97ceb3eae23e"
      },
      "execution_count": 5,
      "outputs": [
        {
          "output_type": "stream",
          "name": "stderr",
          "text": [
            "WARNING:tensorflow:No training configuration found in the save file, so the model was *not* compiled. Compile it manually.\n"
          ]
        },
        {
          "output_type": "stream",
          "name": "stdout",
          "text": [
            "23992.jpg standing\n",
            "23482.jpg sitting\n",
            "12122.jpg standing\n",
            "29384.jpg sitting\n",
            "88923.jpg lyingonbelly\n",
            "88921.jpg lyingonbelly\n",
            "92921.jpg lyingonside\n",
            "92309.jpg standing\n",
            "59394.jpg lyingonside\n",
            "83823.jpg lyingonside\n",
            "32321.jpg standing\n",
            "77923.jpg lyingonbelly\n",
            "12342.jpg lyingonbelly\n",
            "43413.jpg standing\n",
            "88893.jpg sitting\n",
            "29349.jpg sitting\n"
          ]
        }
      ]
    },
    {
      "cell_type": "markdown",
      "source": [
        "# 결과파일 생성 및 다운로드"
      ],
      "metadata": {
        "id": "O5Rnpwl6kRMo"
      }
    },
    {
      "cell_type": "code",
      "source": [
        "f = open('y_pred.csv','wt')\n",
        "for i in y_pred:\n",
        "    f.write(i[0] + ', ' + i[1] + '\\n')\n",
        "f.close()"
      ],
      "metadata": {
        "id": "0izxZOTGgceb"
      },
      "execution_count": 6,
      "outputs": []
    },
    {
      "cell_type": "code",
      "source": [
        "from google.colab import files\n",
        "dfn = 'y_pred.csv'\n",
        "files.download(dfn)"
      ],
      "metadata": {
        "colab": {
          "base_uri": "https://localhost:8080/",
          "height": 17
        },
        "id": "cnhGCNEwaQSU",
        "outputId": "a6e34324-60b1-437e-c8b4-c7dfbfbed07b"
      },
      "execution_count": 7,
      "outputs": [
        {
          "output_type": "display_data",
          "data": {
            "text/plain": [
              "<IPython.core.display.Javascript object>"
            ],
            "application/javascript": [
              "\n",
              "    async function download(id, filename, size) {\n",
              "      if (!google.colab.kernel.accessAllowed) {\n",
              "        return;\n",
              "      }\n",
              "      const div = document.createElement('div');\n",
              "      const label = document.createElement('label');\n",
              "      label.textContent = `Downloading \"${filename}\": `;\n",
              "      div.appendChild(label);\n",
              "      const progress = document.createElement('progress');\n",
              "      progress.max = size;\n",
              "      div.appendChild(progress);\n",
              "      document.body.appendChild(div);\n",
              "\n",
              "      const buffers = [];\n",
              "      let downloaded = 0;\n",
              "\n",
              "      const channel = await google.colab.kernel.comms.open(id);\n",
              "      // Send a message to notify the kernel that we're ready.\n",
              "      channel.send({})\n",
              "\n",
              "      for await (const message of channel.messages) {\n",
              "        // Send a message to notify the kernel that we're ready.\n",
              "        channel.send({})\n",
              "        if (message.buffers) {\n",
              "          for (const buffer of message.buffers) {\n",
              "            buffers.push(buffer);\n",
              "            downloaded += buffer.byteLength;\n",
              "            progress.value = downloaded;\n",
              "          }\n",
              "        }\n",
              "      }\n",
              "      const blob = new Blob(buffers, {type: 'application/binary'});\n",
              "      const a = document.createElement('a');\n",
              "      a.href = window.URL.createObjectURL(blob);\n",
              "      a.download = filename;\n",
              "      div.appendChild(a);\n",
              "      a.click();\n",
              "      div.remove();\n",
              "    }\n",
              "  "
            ]
          },
          "metadata": {}
        },
        {
          "output_type": "display_data",
          "data": {
            "text/plain": [
              "<IPython.core.display.Javascript object>"
            ],
            "application/javascript": [
              "download(\"download_5c0b6f90-a0df-4b2a-a17e-4a771e1a1a4b\", \"y_pred.csv\", 341)"
            ]
          },
          "metadata": {}
        }
      ]
    }
  ]
}