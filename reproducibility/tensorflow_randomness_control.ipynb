{
  "nbformat": 4,
  "nbformat_minor": 0,
  "metadata": {
    "colab": {
      "provenance": [],
      "machine_shape": "hm",
      "authorship_tag": "ABX9TyM7TjwncS+a6iOPxjEeG7SZ",
      "include_colab_link": true
    },
    "kernelspec": {
      "name": "python3",
      "display_name": "Python 3"
    },
    "language_info": {
      "name": "python"
    },
    "accelerator": "GPU",
    "gpuClass": "standard"
  },
  "cells": [
    {
      "cell_type": "markdown",
      "metadata": {
        "id": "view-in-github",
        "colab_type": "text"
      },
      "source": [
        "<a href=\"https://colab.research.google.com/github/jhlee93/AFCompetition/blob/main/reproducibility/tensorflow_randomness_control.ipynb\" target=\"_parent\"><img src=\"https://colab.research.google.com/assets/colab-badge.svg\" alt=\"Open In Colab\"/></a>"
      ]
    },
    {
      "cell_type": "code",
      "execution_count": null,
      "metadata": {
        "id": "b6SY6fbDJart"
      },
      "outputs": [],
      "source": [
        "import random\n",
        "import numpy as np\n",
        "import tensorflow as tf"
      ]
    },
    {
      "cell_type": "markdown",
      "source": [
        "# 가장 먼저 seed를 고정합니다."
      ],
      "metadata": {
        "id": "KOV7AJF9MtGX"
      }
    },
    {
      "cell_type": "code",
      "source": [
        "seed = 333\n",
        "random.seed(seed)\n",
        "np.random.seed(seed)\n",
        "tf.random.set_seed(seed)"
      ],
      "metadata": {
        "id": "Xmmzbj_6KBkU"
      },
      "execution_count": null,
      "outputs": []
    },
    {
      "cell_type": "code",
      "source": [
        "mnist = tf.keras.datasets.mnist\n",
        "\n",
        "(x_train, y_train), (x_test, y_test) = mnist.load_data()\n",
        "x_train, x_test = x_train / 255.0, x_test / 255.0\n",
        "print(\"Train:\", x_train.shape, y_train.shape)\n",
        "print(\"Test:\", x_test.shape, y_test.shape)"
      ],
      "metadata": {
        "colab": {
          "base_uri": "https://localhost:8080/"
        },
        "id": "k-5jFfTHKMgj",
        "outputId": "bae651ee-19a8-4ed3-8af1-1db1f201645c"
      },
      "execution_count": null,
      "outputs": [
        {
          "output_type": "stream",
          "name": "stdout",
          "text": [
            "Train: (60000, 28, 28) (60000,)\n",
            "Test: (10000, 28, 28) (10000,)\n"
          ]
        }
      ]
    },
    {
      "cell_type": "code",
      "source": [
        "model = tf.keras.models.Sequential([\n",
        "  tf.keras.layers.Flatten(input_shape=(28, 28)),\n",
        "  tf.keras.layers.Dense(128, activation='relu'),\n",
        "  tf.keras.layers.Dropout(0.2),\n",
        "  tf.keras.layers.Dense(10, activation='softmax')\n",
        "])\n",
        "\n",
        "model.compile(optimizer='adam',\n",
        "              loss='sparse_categorical_crossentropy',\n",
        "              metrics=['accuracy'])"
      ],
      "metadata": {
        "id": "yGP9vIsiKdLY"
      },
      "execution_count": null,
      "outputs": []
    },
    {
      "cell_type": "markdown",
      "source": [
        "# 다음 결과는 seed=333으로 고정하여 학습/평가한 결과입니다.\n",
        "```\n",
        "# Train\n",
        "Epoch 1/3\n",
        "1875/1875 [==============================] - 7s 3ms/step - loss: 0.2908 - accuracy: 0.9161\n",
        "Epoch 2/3\n",
        "1875/1875 [==============================] - 4s 2ms/step - loss: 0.1418 - accuracy: 0.9582\n",
        "Epoch 3/3\n",
        "1875/1875 [==============================] - 4s 2ms/step - loss: 0.1064 - accuracy: 0.9679\n",
        "\n",
        "# Test\n",
        "313/313 [==============================] - 1s 2ms/step - loss: 0.0847 - accuracy: 0.9738\n",
        "Test Loss: 0.084668\tTest Accuracy: 97.38\n",
        "```"
      ],
      "metadata": {
        "id": "i2d6RoJiMFOg"
      }
    },
    {
      "cell_type": "markdown",
      "source": [
        "# 아래 셀을 실행시켜 무작위성이 통제되었는지 확인해봅니다."
      ],
      "metadata": {
        "id": "ph1LHOXwMbhj"
      }
    },
    {
      "cell_type": "code",
      "source": [
        "print(\"# Train\")\n",
        "model.fit(\n",
        "    x_train, y_train,\n",
        "    epochs=3,\n",
        "    batch_size=32,\n",
        "    verbose=True)\n",
        "\n",
        "print(\"\\n# Test\")\n",
        "l, acc = model.evaluate(x_test, y_test)\n",
        "print(f\"Test Loss: {l:.6f}\\tTest Accuracy: {acc*100:.2f}\")"
      ],
      "metadata": {
        "colab": {
          "base_uri": "https://localhost:8080/"
        },
        "id": "MBfVtXWUKxZ3",
        "outputId": "eb444d81-e571-46bc-a7bc-e35719b876a5"
      },
      "execution_count": null,
      "outputs": [
        {
          "output_type": "stream",
          "name": "stdout",
          "text": [
            "# Train\n",
            "Epoch 1/3\n",
            "1875/1875 [==============================] - 7s 3ms/step - loss: 0.2908 - accuracy: 0.9161\n",
            "Epoch 2/3\n",
            "1875/1875 [==============================] - 5s 2ms/step - loss: 0.1418 - accuracy: 0.9582\n",
            "Epoch 3/3\n",
            "1875/1875 [==============================] - 4s 2ms/step - loss: 0.1064 - accuracy: 0.9679\n",
            "\n",
            "# Test\n",
            "313/313 [==============================] - 1s 2ms/step - loss: 0.0847 - accuracy: 0.9738\n",
            "Test Loss: 0.084668\tTest Accuracy: 97.38\n"
          ]
        }
      ]
    },
    {
      "cell_type": "markdown",
      "source": [
        "# [런타임 - 다시 시작 및 모두 실행] 을 실행하여 결과가 재현되는지 다시 한번 확인해봅니다."
      ],
      "metadata": {
        "id": "9GZMDWr0LPLr"
      }
    },
    {
      "cell_type": "code",
      "source": [],
      "metadata": {
        "id": "QJsgLN3WLdy1"
      },
      "execution_count": null,
      "outputs": []
    }
  ]
}