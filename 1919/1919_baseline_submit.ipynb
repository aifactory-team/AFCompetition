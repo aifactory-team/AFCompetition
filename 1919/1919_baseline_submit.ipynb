{
  "nbformat": 4,
  "nbformat_minor": 0,
  "metadata": {
    "colab": {
      "name": "1919_baseline_submit.ipynb",
      "provenance": [],
      "collapsed_sections": [],
      "authorship_tag": "ABX9TyNUU2GwrUzM+6MkoWqMOUpo",
      "include_colab_link": true
    },
    "kernelspec": {
      "name": "python3",
      "display_name": "Python 3"
    },
    "language_info": {
      "name": "python"
    }
  },
  "cells": [
    {
      "cell_type": "markdown",
      "metadata": {
        "id": "view-in-github",
        "colab_type": "text"
      },
      "source": [
        "<a href=\"https://colab.research.google.com/github/jhlee93/AFCompetition/blob/main/1919/1919_baseline_submit.ipynb\" target=\"_parent\"><img src=\"https://colab.research.google.com/assets/colab-badge.svg\" alt=\"Open In Colab\"/></a>"
      ]
    },
    {
      "cell_type": "code",
      "metadata": {
        "id": "KtWA53jBu96v"
      },
      "source": [
        "import pandas as pd\n",
        "import random"
      ],
      "execution_count": 1,
      "outputs": []
    },
    {
      "cell_type": "markdown",
      "metadata": {
        "id": "-fZMQo2pvgY4"
      },
      "source": [
        "### 무작위 음절을 통해 한글 문장을 생성합니다."
      ]
    },
    {
      "cell_type": "code",
      "metadata": {
        "id": "-0Qvu5NdtxJM"
      },
      "source": [
        "# 초성, 중성, 종성 인덱스\n",
        "\n",
        "# 초성 리스트 19개 ['ㄱ', 'ㄲ', 'ㄴ', 'ㄷ', 'ㄸ', 'ㄹ', 'ㅁ', 'ㅂ', 'ㅃ', 'ㅅ', 'ㅆ', 'ㅇ', 'ㅈ', 'ㅉ', 'ㅊ', 'ㅋ', 'ㅌ', 'ㅍ', 'ㅎ']\n",
        "# 중성 리스트 21개 ['ㅏ', 'ㅐ', 'ㅑ', 'ㅒ', 'ㅓ', 'ㅔ', 'ㅕ', 'ㅖ', 'ㅗ', 'ㅘ', 'ㅙ', 'ㅚ', 'ㅛ', 'ㅜ', 'ㅝ', 'ㅞ', 'ㅟ', 'ㅠ', 'ㅡ', 'ㅢ', 'ㅣ']\n",
        "# 종성 리스트 28개 [' ', 'ㄱ', 'ㄲ', 'ㄳ', 'ㄴ', 'ㄵ', 'ㄶ', 'ㄷ', 'ㄹ', 'ㄺ', 'ㄻ', 'ㄼ', 'ㄽ', 'ㄾ', 'ㄿ', 'ㅀ', 'ㅁ', 'ㅂ', 'ㅄ', 'ㅅ', 'ㅆ', 'ㅇ', 'ㅈ', 'ㅊ', 'ㅋ', 'ㅌ', 'ㅍ', 'ㅎ']"
      ],
      "execution_count": 2,
      "outputs": []
    },
    {
      "cell_type": "code",
      "metadata": {
        "id": "EipuvZwUiRP4"
      },
      "source": [
        "# 초성, 중성, 종성 인덱스로부터 유니코드를 가져옵니다.\n",
        "def return_unicode_number(cho_id, jung_id, jong_id):\n",
        "    return ((cho_id * 588) + (jung_id * 28) + (jong_id)) + 44032"
      ],
      "execution_count": 3,
      "outputs": []
    },
    {
      "cell_type": "code",
      "metadata": {
        "id": "1izQX60Wi1sE"
      },
      "source": [
        "# 20~30 글자의 무작위 음절로 구성된 한글 문장을 생성합니다.\n",
        "def make_script():\n",
        "    len_script = random.randint(20, 30)\n",
        "    scrpt = ''\n",
        "    for _ in range(len_script):\n",
        "        chosung_id = random.randint(0, 18) # 초성\n",
        "        jungsung_id = random.randint(0, 20) # 중성\n",
        "        jongsung_id = random.randint(0, 27) # 종성\n",
        "        scrpt += chr(return_unicode_number(chosung_id, jungsung_id, jongsung_id))\n",
        "\n",
        "    return scrpt"
      ],
      "execution_count": 4,
      "outputs": []
    },
    {
      "cell_type": "code",
      "metadata": {
        "id": "v5PBI6qVi-Hs",
        "colab": {
          "base_uri": "https://localhost:8080/",
          "height": 35
        },
        "outputId": "e5a9c9d7-7f2d-401f-c4cd-a8941505b9a6"
      },
      "source": [
        "# 무작위로 생성된 한 문장을 확인합니다.\n",
        "make_script()"
      ],
      "execution_count": 5,
      "outputs": [
        {
          "output_type": "execute_result",
          "data": {
            "application/vnd.google.colaboratory.intrinsic+json": {
              "type": "string"
            },
            "text/plain": [
              "'쎓퐦쀾묨더턕귘쀧괙퓠얗뿜쉑쩩썆홗쫢뱸턫귏뽓'"
            ]
          },
          "metadata": {},
          "execution_count": 5
        }
      ]
    },
    {
      "cell_type": "markdown",
      "metadata": {
        "id": "tfKnZlyIwxpu"
      },
      "source": [
        "### 제출파일 형식을 다운로드하고, 무작위 문장을 채워 넣습니다."
      ]
    },
    {
      "cell_type": "code",
      "metadata": {
        "colab": {
          "base_uri": "https://localhost:8080/"
        },
        "id": "mp80S-wRWbID",
        "outputId": "ebb39f3c-2214-45ac-cbfa-6c787f8fb8ae"
      },
      "source": [
        "!wget https://raw.githubusercontent.com/aifactory-team/AFCompetition/main/1919/submission_sample.csv"
      ],
      "execution_count": 6,
      "outputs": [
        {
          "output_type": "stream",
          "name": "stdout",
          "text": [
            "--2021-12-03 03:47:38--  https://raw.githubusercontent.com/aifactory-team/AFCompetition/main/1919/submission_sample.csv\n",
            "Resolving raw.githubusercontent.com (raw.githubusercontent.com)... 185.199.108.133, 185.199.109.133, 185.199.110.133, ...\n",
            "Connecting to raw.githubusercontent.com (raw.githubusercontent.com)|185.199.108.133|:443... connected.\n",
            "HTTP request sent, awaiting response... 200 OK\n",
            "Length: 116969 (114K) [text/plain]\n",
            "Saving to: ‘submission_sample.csv.1’\n",
            "\n",
            "\rsubmission_sample.c   0%[                    ]       0  --.-KB/s               \rsubmission_sample.c 100%[===================>] 114.23K  --.-KB/s    in 0.01s   \n",
            "\n",
            "2021-12-03 03:47:38 (7.84 MB/s) - ‘submission_sample.csv.1’ saved [116969/116969]\n",
            "\n"
          ]
        }
      ]
    },
    {
      "cell_type": "code",
      "metadata": {
        "colab": {
          "base_uri": "https://localhost:8080/"
        },
        "id": "1D3lgp-ynb0C",
        "outputId": "90b0ea10-8e08-4294-8c56-f96ee71ac758"
      },
      "source": [
        "\n",
        "# 제출파일 형식은 ID(평가 샘플 ID)와 Prediction(음성 인식 결과) 컬럼으로 구성되며, 평가 샘플 수는 16008개 입니다. \n",
        "# ID는 모든 평가샘플의 고유한 값을 나타내며 0에서 16007 까지의 ID를 갖습니다.\n",
        "# Prediction은 학습 완료된 모델의 음성인식 결과를 기록하는 컬럼입니다. \n",
        "\n",
        "submit_sample = pd.read_csv('submission_sample.csv')\n",
        "print(submit_sample)"
      ],
      "execution_count": 7,
      "outputs": [
        {
          "output_type": "stream",
          "name": "stdout",
          "text": [
            "          ID  Prediction\n",
            "0          0         NaN\n",
            "1          1         NaN\n",
            "2          2         NaN\n",
            "3          3         NaN\n",
            "4          4         NaN\n",
            "...      ...         ...\n",
            "16003  16003         NaN\n",
            "16004  16004         NaN\n",
            "16005  16005         NaN\n",
            "16006  16006         NaN\n",
            "16007  16007         NaN\n",
            "\n",
            "[16008 rows x 2 columns]\n"
          ]
        }
      ]
    },
    {
      "cell_type": "code",
      "metadata": {
        "colab": {
          "base_uri": "https://localhost:8080/"
        },
        "id": "_wBJHJ4DwuJN",
        "outputId": "bd98c1e3-544d-47c9-ca3f-6347fd22abad"
      },
      "source": [
        "# 평가 샘플 수 만큼 문장을 생성하고 제출파일 형식에 값을 채웁니다.\n",
        "sample_scripts = [make_script() for x in range(len(submit_sample))]\n",
        "print(len(sample_scripts))\n",
        "\n",
        "submit_sample['Prediction'] = sample_scripts\n",
        "print(submit_sample)"
      ],
      "execution_count": 8,
      "outputs": [
        {
          "output_type": "stream",
          "name": "stdout",
          "text": [
            "16008\n",
            "          ID                      Prediction\n",
            "0          0  쳩컰힣쓾엤꾟덋훳뀸솑콦뱫껧꾒풦홑욊턭깍횝푔놢믝도뛟눜뜯픢졲뙈\n",
            "1          1       쾜마컃쬿갇냠귧앹꽊쁹욚뼞홴쇩씼졽윇셹됕뜅욬폆삵쭂룡\n",
            "2          2      펟횎뀁듫귾쾁성떍괟빨짿쵚쯗윹맜킗뿝쐣픐졆럻몽휟솬쨣릐\n",
            "3          3     뢅놱탆갣덈턭쌞턄띺쟖쇚쳧빔폹뾒탟춁뷽겐죺쏫쟎왹쮄팶던앣\n",
            "4          4           뢔햎췀엏휝뚣땕훘앱쳹톰쀖선툗믢떭괨댷퀭슢펠\n",
            "...      ...                             ...\n",
            "16003  16003            성룟듺뗏횼듛헎뮀쏋촌듫틈팍괗퀻즈흕햴텊퓟\n",
            "16004  16004  렁뗖쒽팺퉛긂땎눝뀧떗쉅캇씽욓킗퇃굷톄쏡뿒섟쯰쯛눴뻭낱맗톬뷐쟪\n",
            "16005  16005         챷칶덷앣쇼뻔틜풋쌧술힣뗬퉑퓔늻쾣쎅쫣쯏뻎뎺딌랒\n",
            "16006  16006     밭픠닭쫣쇉헶뷓눜퇧죳씖몉홌쒀갳폆믚봝롥쪬쳟옼쾻냏쒿묊뭨\n",
            "16007  16007     쐞홻덥좮둆롕픅댵셸잇뼑쳔뇠똅쥴벨퓗먼굥삑봆킥례퉒쫩쮄쬑\n",
            "\n",
            "[16008 rows x 2 columns]\n"
          ]
        }
      ]
    },
    {
      "cell_type": "code",
      "metadata": {
        "id": "jRKXMnKw0LuT"
      },
      "source": [
        "# 제출 파일을 저장합니다.\n",
        "submit_sample.to_csv('my_submit.csv', index=False)"
      ],
      "execution_count": 9,
      "outputs": []
    },
    {
      "cell_type": "markdown",
      "metadata": {
        "id": "z9ZuNjTgzp43"
      },
      "source": [
        "### 제출하기\n",
        "- 생성된 제출파일(my_submit.csv) 파일을 다운로드 합니다.\n",
        "- [숫자가 포함된 음성인식 모델 개발 경진대회](http://aifactory.space/competition/leaderboard/1919) 페이지에서 제출하기를 클릭하고, 제출파일을 업로드합니다.\n",
        "- 리더보드에서 스코어를 확인합니다."
      ]
    },
    {
      "cell_type": "code",
      "metadata": {
        "id": "3rUnC9-o0rAE"
      },
      "source": [
        ""
      ],
      "execution_count": 9,
      "outputs": []
    }
  ]
}