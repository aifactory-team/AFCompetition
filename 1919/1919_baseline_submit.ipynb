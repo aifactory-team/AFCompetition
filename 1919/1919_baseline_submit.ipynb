{
  "nbformat": 4,
  "nbformat_minor": 0,
  "metadata": {
    "colab": {
      "name": "1919_baseline_submit.ipynb",
      "provenance": [],
      "collapsed_sections": []
    },
    "kernelspec": {
      "name": "python3",
      "display_name": "Python 3"
    },
    "language_info": {
      "name": "python"
    }
  },
  "cells": [
    {
      "cell_type": "code",
      "metadata": {
        "id": "KtWA53jBu96v"
      },
      "source": [
        "import pandas as pd\n",
        "import random"
      ],
      "execution_count": null,
      "outputs": []
    },
    {
      "cell_type": "markdown",
      "metadata": {
        "id": "-fZMQo2pvgY4"
      },
      "source": [
        "### 무작위 음절을 통해 한글 문장을 생성합니다."
      ]
    },
    {
      "cell_type": "code",
      "metadata": {
        "id": "-0Qvu5NdtxJM"
      },
      "source": [
        "# 초성, 중성, 종성 인덱스\n",
        "\n",
        "# 초성 리스트 19개 ['ㄱ', 'ㄲ', 'ㄴ', 'ㄷ', 'ㄸ', 'ㄹ', 'ㅁ', 'ㅂ', 'ㅃ', 'ㅅ', 'ㅆ', 'ㅇ', 'ㅈ', 'ㅉ', 'ㅊ', 'ㅋ', 'ㅌ', 'ㅍ', 'ㅎ']\n",
        "# 중성 리스트 21개 ['ㅏ', 'ㅐ', 'ㅑ', 'ㅒ', 'ㅓ', 'ㅔ', 'ㅕ', 'ㅖ', 'ㅗ', 'ㅘ', 'ㅙ', 'ㅚ', 'ㅛ', 'ㅜ', 'ㅝ', 'ㅞ', 'ㅟ', 'ㅠ', 'ㅡ', 'ㅢ', 'ㅣ']\n",
        "# 종성 리스트 28개 [' ', 'ㄱ', 'ㄲ', 'ㄳ', 'ㄴ', 'ㄵ', 'ㄶ', 'ㄷ', 'ㄹ', 'ㄺ', 'ㄻ', 'ㄼ', 'ㄽ', 'ㄾ', 'ㄿ', 'ㅀ', 'ㅁ', 'ㅂ', 'ㅄ', 'ㅅ', 'ㅆ', 'ㅇ', 'ㅈ', 'ㅊ', 'ㅋ', 'ㅌ', 'ㅍ', 'ㅎ']"
      ],
      "execution_count": null,
      "outputs": []
    },
    {
      "cell_type": "code",
      "metadata": {
        "id": "EipuvZwUiRP4"
      },
      "source": [
        "# 초성, 중성, 종성 인덱스로부터 유니코드를 가져옵니다.\n",
        "def return_unicode_number(cho_id, jung_id, jong_id):\n",
        "    return ((cho_id * 588) + (jung_id * 28) + (jong_id)) + 44032"
      ],
      "execution_count": null,
      "outputs": []
    },
    {
      "cell_type": "code",
      "metadata": {
        "id": "1izQX60Wi1sE"
      },
      "source": [
        "# 20~30 글자의 무작위 음절로 구성된 한글 문장을 생성합니다.\n",
        "def make_script():\n",
        "    len_script = random.randint(20, 30)\n",
        "    scrpt = ''\n",
        "    for _ in range(len_script):\n",
        "        chosung_id = random.randint(0, 18) # 초성\n",
        "        jungsung_id = random.randint(0, 20) # 중성\n",
        "        jongsung_id = random.randint(0, 27) # 종성\n",
        "        scrpt += chr(return_unicode_number(chosung_id, jungsung_id, jongsung_id))\n",
        "\n",
        "    return scrpt"
      ],
      "execution_count": null,
      "outputs": []
    },
    {
      "cell_type": "code",
      "metadata": {
        "id": "v5PBI6qVi-Hs",
        "colab": {
          "base_uri": "https://localhost:8080/",
          "height": 35
        },
        "outputId": "3ce58b3f-e5c5-4dad-e6ff-b052b738292b"
      },
      "source": [
        "# 무작위로 생성된 한 문장을 확인합니다.\n",
        "make_script()"
      ],
      "execution_count": null,
      "outputs": [
        {
          "output_type": "execute_result",
          "data": {
            "application/vnd.google.colaboratory.intrinsic+json": {
              "type": "string"
            },
            "text/plain": [
              "'쏄섀놧쪑튴뽮쑏칬울혽걷햝좳틈쫥엾핦뼪둑페륻퉌'"
            ]
          },
          "metadata": {},
          "execution_count": 5
        }
      ]
    },
    {
      "cell_type": "markdown",
      "metadata": {
        "id": "tfKnZlyIwxpu"
      },
      "source": [
        "### 제출을 위해 제출파일 형식에 맞는 DataFrame을 생성합니다.\n",
        "- 제출 파일 형식은 다음 링크를 통해 다운로드 할 수 있습니다.\n",
        "https://drive.google.com/file/d/1HAZXmNjlPFu-AYza_iNsNhUYkvqseB6Y/view?usp=sharing"
      ]
    },
    {
      "cell_type": "code",
      "metadata": {
        "colab": {
          "base_uri": "https://localhost:8080/"
        },
        "id": "1D3lgp-ynb0C",
        "outputId": "10983fb0-c284-4b89-a05d-350175335e74"
      },
      "source": [
        "# 제출파일 형식은 ID(평가 샘플 ID)와 Prediction(음성 인식 결과) 컬럼으로 구성되며,\n",
        "# 평가 샘플 수는 16008개 입니다.\n",
        "submit_sample = pd.DataFrame(\n",
        "    {\n",
        "        \"ID\": [x for x in range(16008)],\n",
        "        \"Prediction\": [None for x in range(16008)]\n",
        "    }\n",
        ")\n",
        "print(submit_sample)"
      ],
      "execution_count": null,
      "outputs": [
        {
          "output_type": "stream",
          "name": "stdout",
          "text": [
            "          ID Prediction\n",
            "0          0       None\n",
            "1          1       None\n",
            "2          2       None\n",
            "3          3       None\n",
            "4          4       None\n",
            "...      ...        ...\n",
            "16003  16003       None\n",
            "16004  16004       None\n",
            "16005  16005       None\n",
            "16006  16006       None\n",
            "16007  16007       None\n",
            "\n",
            "[16008 rows x 2 columns]\n"
          ]
        }
      ]
    },
    {
      "cell_type": "code",
      "metadata": {
        "colab": {
          "base_uri": "https://localhost:8080/"
        },
        "id": "_wBJHJ4DwuJN",
        "outputId": "4e88c1b8-ac50-439b-bad0-3cd1046b872f"
      },
      "source": [
        "# 평가 샘플 수 만큼 문장을 생성하고 제출파일 형식에 값을 채웁니다.\n",
        "sample_scripts = [make_script() for x in range(len(submit_sample))]\n",
        "print(len(sample_scripts))\n",
        "\n",
        "submit_sample['Prediction'] = sample_scripts\n",
        "print(submit_sample)"
      ],
      "execution_count": null,
      "outputs": [
        {
          "output_type": "stream",
          "name": "stdout",
          "text": [
            "16008\n",
            "          ID                      Prediction\n",
            "0          0          먃앋쐺빱뇤뤨킓쯑걟듯믱놷퓷쬪썺떒늝퍔첁퇷쐳왕\n",
            "1          1         괞딑큃폴퉿낄럹펕뼇둍엸륲놿쵵츽떢콀숋쫐쨁콎낱몿\n",
            "2          2          낝끻꾤퓓챖퇬땕똇췇룞뱕폪뭐췙돶쮋헁잢쐪딯뒎곎\n",
            "3          3    떚꽚퀟봕잠녵졩좝쫯윧짙닥꿛쨴줥릙뷺욜쭀륁틥혂뛅믎됏믉쩱낍\n",
            "4          4         겊슒죝웁꽣똃닂코핷귔젗탉곥끕홾젓똷롵뭢쥓줬썧펮\n",
            "...      ...                             ...\n",
            "16003  16003     뛻쬯휍뵏푋춅뤁뉴봊뿵쟝쇂뫌콉얪뵍뾞눌며놇둛큻냊헗붍풹웨\n",
            "16004  16004  릛쫄뮒큐녷띛폷픣묑싏륳똈쏶취쳂햫뇬벺뚦팱뮫췓숒쳹엙냌쪻빒띯걑\n",
            "16005  16005   뾢쁱첑쯟몎쓔싑쯽묩돰괳힓꺺핶쓢띑쁒팬팄홌썣좴쑒볧쥆얎윔쏍컡\n",
            "16006  16006   룍쩀닰윫븨앸낊쎨킓껑켃칰픘논헻대쑝떷슚뀁쐫괈몯뺘홬씤뙆돀때\n",
            "16007  16007           쭍튣쑯죗압좜킪쌞뮸늃퇧쓓텸퍝쿇냃뿔룰혾뱨샋\n",
            "\n",
            "[16008 rows x 2 columns]\n"
          ]
        }
      ]
    },
    {
      "cell_type": "code",
      "metadata": {
        "id": "jRKXMnKw0LuT"
      },
      "source": [
        "# 제출 파일을 저장합니다.\n",
        "submit_sample.to_csv('my_submit.csv', index=False)"
      ],
      "execution_count": null,
      "outputs": []
    },
    {
      "cell_type": "markdown",
      "metadata": {
        "id": "z9ZuNjTgzp43"
      },
      "source": [
        "### 제출하기\n",
        "- 생성된 제출파일(my_submit.csv) 파일을 다운로드 합니다.\n",
        "- [숫자가 포함된 음성인식 모델 개발 경진대회](http://aifactory.space/competition/leaderboard/1919) 페이지에서 제출하기를 클릭하고, 제출파일을 업로드합니다.\n",
        "- 리더보드에서 스코어를 확인합니다."
      ]
    },
    {
      "cell_type": "code",
      "metadata": {
        "id": "3rUnC9-o0rAE"
      },
      "source": [
        ""
      ],
      "execution_count": null,
      "outputs": []
    }
  ]
}