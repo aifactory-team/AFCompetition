{
  "nbformat": 4,
  "nbformat_minor": 0,
  "metadata": {
    "colab": {
      "provenance": [],
      "include_colab_link": true
    },
    "kernelspec": {
      "name": "python3",
      "display_name": "Python 3"
    },
    "language_info": {
      "name": "python"
    }
  },
  "cells": [
    {
      "cell_type": "markdown",
      "metadata": {
        "id": "view-in-github",
        "colab_type": "text"
      },
      "source": [
        "<a href=\"https://colab.research.google.com/github/jhlee93/AFCompetition/blob/main/2367/Guideline_Submit.ipynb\" target=\"_parent\"><img src=\"https://colab.research.google.com/assets/colab-badge.svg\" alt=\"Open In Colab\"/></a>"
      ]
    },
    {
      "cell_type": "markdown",
      "source": [
        "# 안녕하세요. AIFactory입니다 ☺️\n",
        "이 노트북은 제출을 위한 가이드라인 노트북입니다.  \n",
        "\n",
        "Colab에서 작업 하실 경우, 반드시 구글 드라이브에 사본을 저장을(파일 -> Drive에 사본 저장) 하신 후에 사용해주세요.\n",
        "  \n",
        "이번 태스크는 스코어 경쟁을 통해 입상자를 선별하는 대회가 아닌,  \n",
        "AIF의 **추론 자동화**를 경험해보고 이 과정에서 불편한 점, 개선 되었으면 하는 점 등 여러분들의 다양한 의견을 듣기 위해서이니 다양한 의견을 공유해 주시면 감사드리겠습니다.\n",
        "\n",
        "### 주의 사항\n",
        "1. 추론 코드와 학습 코드는 반드시 **별도 스크립트**에서 진행해주세요.\n",
        "2. Colab 노트북이 아닌 경우, 제출 스크립트의 파일 이름은 반드시 ***task.ipynb***로 해주세요.\n",
        "3. Colab 노트북에서 제출 할 경우, 권한을 ***공유 -> 링크가 있는 모든 사용자*** 로 설정해주세요.\n",
        "4. 현재 작업중인 경로에서 모델 추론에 불필요한 파일이 제출되지 않도록 주의해주세요.\n",
        "5. 모든 경로는 현재 작업중인 스크립트 파일을 기준으로 **상대 경로**로 설정해주세요.\n",
        "6. AIF의 추론 환경은 Colab과 완전히 동일하지 않으니, 추론 환경에 설치된 패키지 항목을 참고하신 후 필요한 패키지를 설치해주세요.\n",
        "7. 이번 베타 테스트의 추론 환경은 CPU만 사용하여 평가를 진행하니 참고하여 코드를 작성해주세요.\n",
        "\n",
        "추론 환경에 설치된 패키지 리스트\n",
        "```\n",
        "tensorflow==2.11.1\n",
        "keras-cv\n",
        "torch==1.12.1+cu113 torchvision==0.13.1+cu113 torchaudio==0.12.1\n",
        "albumentations\n",
        "transformers\n",
        "scikit-learn\n",
        "numpy\n",
        "Cython\n",
        "pycocotools\n",
        "pandas\n",
        "jupyter\n",
        "notebook\n",
        "matplotlib\n",
        "seaborn\n",
        "plotly\n",
        "Pillow\n",
        "opencv-python\n",
        "scikit-image\n",
        "```"
      ],
      "metadata": {
        "id": "nSjrc8ZOMV_2"
      }
    },
    {
      "cell_type": "markdown",
      "source": [
        "# 필요 패키지 설치"
      ],
      "metadata": {
        "id": "NscLBDpxDyHb"
      }
    },
    {
      "cell_type": "code",
      "source": [
        "# 로컬 환경에 필요한 패키지를 설치합니다.\n",
        "!pip install -U aifactory\n",
        "!pip install -U gdown"
      ],
      "metadata": {
        "id": "BqpRip5lEsvq"
      },
      "execution_count": null,
      "outputs": []
    },
    {
      "cell_type": "code",
      "source": [
        "import os\n",
        "import random\n",
        "import numpy as np\n",
        "from PIL import Image\n",
        "import tensorflow as tf\n",
        "from tensorflow import keras\n",
        "from tensorflow.keras import layers\n",
        "from tensorflow.keras.models import Sequential\n",
        "import matplotlib.pyplot as plt"
      ],
      "metadata": {
        "id": "eJWdW2OCFnA1"
      },
      "execution_count": null,
      "outputs": []
    },
    {
      "cell_type": "code",
      "source": [
        "SEED = 42\n",
        "random.seed(SEED)\n",
        "np.random.seed(SEED)\n",
        "tf.random.set_seed(SEED)"
      ],
      "metadata": {
        "id": "eUIfvx54NAOO"
      },
      "execution_count": null,
      "outputs": []
    },
    {
      "cell_type": "code",
      "source": [
        "classes = ['daisy', 'dandelion', 'roses', 'sunflowers', 'tulips']"
      ],
      "metadata": {
        "id": "SA7IopefNFTP"
      },
      "execution_count": null,
      "outputs": []
    },
    {
      "cell_type": "markdown",
      "source": [
        "# 모델 로드 함수를 정의해주세요.\n",
        "\n",
        "- 함수 명칭은 자유롭게 정의해주세요.\n",
        "- 이 함수가 받는 인자(Arguments)는 없거나, default 값으로 설정 되어야 합니다.\n",
        "- 모델 로드 함수는 참가자 분들께서 이미 학습 완료한 모델 가중치 파일을 읽어와 메모리에 올려 놓은 후 반환 되어야 합니다.\n",
        "- 모델 가중치 파일을 현재 노트북 파일 기준 상대 경로로 설정해주세요.\n",
        "\n",
        "\n",
        "```python\n",
        "# Example 1\n",
        "def tf_load_model():\n",
        "    ...\n",
        "    model.load_weights('./weights_dir/my_weights.h5')\n",
        "    return model\n",
        "\n",
        "# Example 2\n",
        "def torch_load_model(weights_path='./my_weights.h5'):\n",
        "    ...\n",
        "    model.load_state_dict(torch.load(weights_path))\n",
        "    model.eval()\n",
        "    return model\n",
        "```\n"
      ],
      "metadata": {
        "id": "OevxGm_VN6TT"
      }
    },
    {
      "cell_type": "code",
      "source": [
        "def load_model():\n",
        "    # 모델 아키텍쳐\n",
        "    model = Sequential([\n",
        "        # ...\n",
        "        layers.Dense(len(classes))\n",
        "    ])\n",
        "    # 모델 가중치 로드\n",
        "    model.load_weights('./my_weights.h5')\n",
        "\n",
        "    return model"
      ],
      "metadata": {
        "id": "_I-aCh1PNNny"
      },
      "execution_count": null,
      "outputs": []
    },
    {
      "cell_type": "markdown",
      "source": [
        "# 예측 함수를 정의해주세요.\n",
        "- 예측 함수는 반드시 **2개의 인자**를 다음과 같이 순서대로 받아야합니다.\n",
        "    - 첫 번째 인자 - AIF가 제공하는 평가 입력 데이터(X_test)\n",
        "    - 두 번째 인자 - 가중치를 읽어온 모델\n",
        "\n",
        "- 첫 번째 인자(X_test)는 평가용 이미지 파일들의 경로가 담긴 list를 전달합니다.  \n",
        "    - `X_test = ['image_path_000.jpg', 'image_path_001.jpg', ...]`\n",
        "    - X_test가 제공되는 형식을 참고하여 예측 및 전/후 처리를 통해 **출력 규칙**에 맞게 결과를 반환해주세요.\n",
        "    \n",
        "- **출력 규칙**\n",
        "    - X_test 전체의 예측값(꽃 품종 이름)을 다음과 같이 list 형태로 담아 반환해주세요.  \n",
        "    `['daisy', 'dandelion', 'roses', 'sunflowers', 'tulips', ... ]`\n",
        "- 예측 함수가 **출력 규칙**에 맞게 반환되면 AIF는 정답 데이터와 비교하여 평가 점수를 계산합니다.  \n",
        "다음 코드를 참고하여 모델 로드 함수와 예측 함수를 정의해주세요.\n",
        "    ```python\n",
        "    # AIF 채점 코드 예시\n",
        "    X_test = ['image_path_000.jpg', 'image_path_001.jpg', ...]\n",
        "    y_test = ['daisy', 'dandelion', 'roses', 'sunflowers', 'tulips', ... ]\n",
        "\n",
        "    model = tf_load_model() # 참가팀 모델 로드 함수 실행\n",
        "    y_pred = predict(X_test, model) # 참가팀 예측 함수 실행\n",
        "\n",
        "    from sklearn.metrics import f1_score\n",
        "    score = f1_score(y_test, y_pred, average='macro')\n",
        "    ```\n"
      ],
      "metadata": {
        "id": "7QOGhZD6PE0E"
      }
    },
    {
      "cell_type": "code",
      "source": [
        "# 예측 함수는 AIF에서 제공하는 X_test의 입력 정보와, 메모리에 올라간 사전 학습 모델을 입력 받습니다.\n",
        "def predict(X_test, model):\n",
        "    my_result = []\n",
        "    for X_test_path in X_test:\n",
        "        image = Image.open(X_test_path).resize((180,180)) # 이미지 읽어오기\n",
        "\n",
        "        # 입력 형식 변환\n",
        "        image = np.array(image, np.uint8) # (180, 180, 3)\n",
        "        image = np.expand_dims(image, axis=0) # (1, 180, 180, 3)\n",
        "        \n",
        "        # 제출 형식에 맞게 변환\n",
        "        pred_proba = model.predict(image, verbose=False)\n",
        "        pred_id = np.argmax(pred_proba, axis=1)[0]\n",
        "        pred_name = classes[pred_id]\n",
        "\n",
        "        my_result.append(pred_name)\n",
        "\n",
        "    return my_result\n"
      ],
      "metadata": {
        "id": "s_e99Ui9zCrg"
      },
      "execution_count": null,
      "outputs": []
    },
    {
      "cell_type": "markdown",
      "source": [
        "# submit 함수를 정의해 주세요.\n",
        "- 이 함수의 명칭은 \u001f반드시 **submit** 으로 해주세요.\n",
        "- **submit** 함수는 AIF가 참가자분들이 정의한 2개의 함수를 전달받아 실행하기 위해 사용됩니다.\n",
        "- **submit** 함수를 통해 위에서\u0004정의한 함수를 **1.모델 로드 함수**와 **2.예측 함수** 순으로 반환해 주세요."
      ],
      "metadata": {
        "id": "8inwM4_e0TFj"
      }
    },
    {
      "cell_type": "code",
      "source": [
        "\n",
        "def submit():\n",
        "    return load_model, predict"
      ],
      "metadata": {
        "id": "iNHAlWIq0Scb"
      },
      "execution_count": null,
      "outputs": []
    },
    {
      "cell_type": "markdown",
      "source": [
        "# 제출하기\b\n",
        "- aifactory 라이브러리를 통해 submit 함수를 제출합니다.\n",
        "- aif.submit 함수는 반드시 `if __name__ == \"__main__\":` 아래에 작성해주세요.\n",
        "- aifactory.score.submit 함수는 3개의 인자를 받습니다.\n",
        "    - ***model_name*** - 제출시 리더보드에 기록하고자 하는 문구\n",
        "    - ***key*** - 대회 참가자에게 제공되는 TASK_KEY  \n",
        "    - ***func*** - submit 함수\n",
        "\n",
        "- TASK_KEY 확인 방법\n",
        "    - https://aifactory.space/competition/detail/2367 페이지 접속\n",
        "    - 우측 상단 `내정보` -> `태스크 정보` 클릭\n",
        "    - 1분야 : 이미지 모델 퀘스트에서 `사용자 키 보기` 클릭"
      ],
      "metadata": {
        "id": "dUK17GD7zjHI"
      }
    },
    {
      "cell_type": "code",
      "source": [
        "import aifactory.score as aif\n",
        "\n",
        "if __name__ == \"__main__\":\n",
        "    aif.submit(model_name=\"MyFirstSubmission\", key='TASK_KEY', func=submit)"
      ],
      "metadata": {
        "id": "yNKCnX0B0x2g"
      },
      "execution_count": null,
      "outputs": []
    }
  ]
}